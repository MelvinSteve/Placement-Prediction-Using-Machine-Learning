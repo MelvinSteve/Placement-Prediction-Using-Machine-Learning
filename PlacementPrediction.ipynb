{
  "nbformat": 4,
  "nbformat_minor": 0,
  "metadata": {
    "colab": {
      "provenance": [],
      "toc_visible": true
    },
    "kernelspec": {
      "name": "python3",
      "display_name": "Python 3"
    },
    "language_info": {
      "name": "python"
    }
  },
  "cells": [
    {
      "cell_type": "markdown",
      "source": [
        "# IMPORTING LIBRARIES AND DATASET"
      ],
      "metadata": {
        "id": "NrY3-UBzKxQ1"
      }
    },
    {
      "cell_type": "code",
      "execution_count": 439,
      "metadata": {
        "id": "o9geUjb6U38_"
      },
      "outputs": [],
      "source": [
        "import numpy as np\n",
        "import pandas as pd\n",
        "import matplotlib.pyplot as plt\n",
        "import seaborn as sns"
      ]
    },
    {
      "cell_type": "code",
      "source": [
        "df=pd.read_csv(\"/content/collegePlace.csv\")\n",
        "df.head()"
      ],
      "metadata": {
        "colab": {
          "base_uri": "https://localhost:8080/",
          "height": 206
        },
        "id": "vLpcbrL0U_Wc",
        "outputId": "1fdc38f4-0f06-49a9-907d-1d036aa2c334"
      },
      "execution_count": 440,
      "outputs": [
        {
          "output_type": "execute_result",
          "data": {
            "text/plain": [
              "   Age  Gender                         Stream  Internships  CGPA  Hostel  \\\n",
              "0   22    Male  Electronics And Communication            1     8       1   \n",
              "1   21  Female               Computer Science            0     7       1   \n",
              "2   22  Female         Information Technology            1     6       0   \n",
              "3   21    Male         Information Technology            0     8       0   \n",
              "4   22    Male                     Mechanical            0     8       1   \n",
              "\n",
              "   HistoryOfBacklogs  PlacedOrNot  \n",
              "0                  1            1  \n",
              "1                  1            1  \n",
              "2                  0            1  \n",
              "3                  1            1  \n",
              "4                  0            1  "
            ],
            "text/html": [
              "\n",
              "  <div id=\"df-a99c6ccf-6afd-4ff9-a8ae-22ad99064b8c\">\n",
              "    <div class=\"colab-df-container\">\n",
              "      <div>\n",
              "<style scoped>\n",
              "    .dataframe tbody tr th:only-of-type {\n",
              "        vertical-align: middle;\n",
              "    }\n",
              "\n",
              "    .dataframe tbody tr th {\n",
              "        vertical-align: top;\n",
              "    }\n",
              "\n",
              "    .dataframe thead th {\n",
              "        text-align: right;\n",
              "    }\n",
              "</style>\n",
              "<table border=\"1\" class=\"dataframe\">\n",
              "  <thead>\n",
              "    <tr style=\"text-align: right;\">\n",
              "      <th></th>\n",
              "      <th>Age</th>\n",
              "      <th>Gender</th>\n",
              "      <th>Stream</th>\n",
              "      <th>Internships</th>\n",
              "      <th>CGPA</th>\n",
              "      <th>Hostel</th>\n",
              "      <th>HistoryOfBacklogs</th>\n",
              "      <th>PlacedOrNot</th>\n",
              "    </tr>\n",
              "  </thead>\n",
              "  <tbody>\n",
              "    <tr>\n",
              "      <th>0</th>\n",
              "      <td>22</td>\n",
              "      <td>Male</td>\n",
              "      <td>Electronics And Communication</td>\n",
              "      <td>1</td>\n",
              "      <td>8</td>\n",
              "      <td>1</td>\n",
              "      <td>1</td>\n",
              "      <td>1</td>\n",
              "    </tr>\n",
              "    <tr>\n",
              "      <th>1</th>\n",
              "      <td>21</td>\n",
              "      <td>Female</td>\n",
              "      <td>Computer Science</td>\n",
              "      <td>0</td>\n",
              "      <td>7</td>\n",
              "      <td>1</td>\n",
              "      <td>1</td>\n",
              "      <td>1</td>\n",
              "    </tr>\n",
              "    <tr>\n",
              "      <th>2</th>\n",
              "      <td>22</td>\n",
              "      <td>Female</td>\n",
              "      <td>Information Technology</td>\n",
              "      <td>1</td>\n",
              "      <td>6</td>\n",
              "      <td>0</td>\n",
              "      <td>0</td>\n",
              "      <td>1</td>\n",
              "    </tr>\n",
              "    <tr>\n",
              "      <th>3</th>\n",
              "      <td>21</td>\n",
              "      <td>Male</td>\n",
              "      <td>Information Technology</td>\n",
              "      <td>0</td>\n",
              "      <td>8</td>\n",
              "      <td>0</td>\n",
              "      <td>1</td>\n",
              "      <td>1</td>\n",
              "    </tr>\n",
              "    <tr>\n",
              "      <th>4</th>\n",
              "      <td>22</td>\n",
              "      <td>Male</td>\n",
              "      <td>Mechanical</td>\n",
              "      <td>0</td>\n",
              "      <td>8</td>\n",
              "      <td>1</td>\n",
              "      <td>0</td>\n",
              "      <td>1</td>\n",
              "    </tr>\n",
              "  </tbody>\n",
              "</table>\n",
              "</div>\n",
              "      <button class=\"colab-df-convert\" onclick=\"convertToInteractive('df-a99c6ccf-6afd-4ff9-a8ae-22ad99064b8c')\"\n",
              "              title=\"Convert this dataframe to an interactive table.\"\n",
              "              style=\"display:none;\">\n",
              "        \n",
              "  <svg xmlns=\"http://www.w3.org/2000/svg\" height=\"24px\"viewBox=\"0 0 24 24\"\n",
              "       width=\"24px\">\n",
              "    <path d=\"M0 0h24v24H0V0z\" fill=\"none\"/>\n",
              "    <path d=\"M18.56 5.44l.94 2.06.94-2.06 2.06-.94-2.06-.94-.94-2.06-.94 2.06-2.06.94zm-11 1L8.5 8.5l.94-2.06 2.06-.94-2.06-.94L8.5 2.5l-.94 2.06-2.06.94zm10 10l.94 2.06.94-2.06 2.06-.94-2.06-.94-.94-2.06-.94 2.06-2.06.94z\"/><path d=\"M17.41 7.96l-1.37-1.37c-.4-.4-.92-.59-1.43-.59-.52 0-1.04.2-1.43.59L10.3 9.45l-7.72 7.72c-.78.78-.78 2.05 0 2.83L4 21.41c.39.39.9.59 1.41.59.51 0 1.02-.2 1.41-.59l7.78-7.78 2.81-2.81c.8-.78.8-2.07 0-2.86zM5.41 20L4 18.59l7.72-7.72 1.47 1.35L5.41 20z\"/>\n",
              "  </svg>\n",
              "      </button>\n",
              "      \n",
              "  <style>\n",
              "    .colab-df-container {\n",
              "      display:flex;\n",
              "      flex-wrap:wrap;\n",
              "      gap: 12px;\n",
              "    }\n",
              "\n",
              "    .colab-df-convert {\n",
              "      background-color: #E8F0FE;\n",
              "      border: none;\n",
              "      border-radius: 50%;\n",
              "      cursor: pointer;\n",
              "      display: none;\n",
              "      fill: #1967D2;\n",
              "      height: 32px;\n",
              "      padding: 0 0 0 0;\n",
              "      width: 32px;\n",
              "    }\n",
              "\n",
              "    .colab-df-convert:hover {\n",
              "      background-color: #E2EBFA;\n",
              "      box-shadow: 0px 1px 2px rgba(60, 64, 67, 0.3), 0px 1px 3px 1px rgba(60, 64, 67, 0.15);\n",
              "      fill: #174EA6;\n",
              "    }\n",
              "\n",
              "    [theme=dark] .colab-df-convert {\n",
              "      background-color: #3B4455;\n",
              "      fill: #D2E3FC;\n",
              "    }\n",
              "\n",
              "    [theme=dark] .colab-df-convert:hover {\n",
              "      background-color: #434B5C;\n",
              "      box-shadow: 0px 1px 3px 1px rgba(0, 0, 0, 0.15);\n",
              "      filter: drop-shadow(0px 1px 2px rgba(0, 0, 0, 0.3));\n",
              "      fill: #FFFFFF;\n",
              "    }\n",
              "  </style>\n",
              "\n",
              "      <script>\n",
              "        const buttonEl =\n",
              "          document.querySelector('#df-a99c6ccf-6afd-4ff9-a8ae-22ad99064b8c button.colab-df-convert');\n",
              "        buttonEl.style.display =\n",
              "          google.colab.kernel.accessAllowed ? 'block' : 'none';\n",
              "\n",
              "        async function convertToInteractive(key) {\n",
              "          const element = document.querySelector('#df-a99c6ccf-6afd-4ff9-a8ae-22ad99064b8c');\n",
              "          const dataTable =\n",
              "            await google.colab.kernel.invokeFunction('convertToInteractive',\n",
              "                                                     [key], {});\n",
              "          if (!dataTable) return;\n",
              "\n",
              "          const docLinkHtml = 'Like what you see? Visit the ' +\n",
              "            '<a target=\"_blank\" href=https://colab.research.google.com/notebooks/data_table.ipynb>data table notebook</a>'\n",
              "            + ' to learn more about interactive tables.';\n",
              "          element.innerHTML = '';\n",
              "          dataTable['output_type'] = 'display_data';\n",
              "          await google.colab.output.renderOutput(dataTable, element);\n",
              "          const docLink = document.createElement('div');\n",
              "          docLink.innerHTML = docLinkHtml;\n",
              "          element.appendChild(docLink);\n",
              "        }\n",
              "      </script>\n",
              "    </div>\n",
              "  </div>\n",
              "  "
            ]
          },
          "metadata": {},
          "execution_count": 440
        }
      ]
    },
    {
      "cell_type": "code",
      "source": [
        "df[\"Age\"].value_counts()"
      ],
      "metadata": {
        "colab": {
          "base_uri": "https://localhost:8080/"
        },
        "id": "nAzLEFi-lGAF",
        "outputId": "1275abce-9fb2-4fd1-b1e4-b33bd7e5af47"
      },
      "execution_count": 441,
      "outputs": [
        {
          "output_type": "execute_result",
          "data": {
            "text/plain": [
              "21    1084\n",
              "22     941\n",
              "20     375\n",
              "23     195\n",
              "19     156\n",
              "24     131\n",
              "26      50\n",
              "25      29\n",
              "28       3\n",
              "30       1\n",
              "29       1\n",
              "Name: Age, dtype: int64"
            ]
          },
          "metadata": {},
          "execution_count": 441
        }
      ]
    },
    {
      "cell_type": "markdown",
      "source": [
        "# PERFORMING EDA"
      ],
      "metadata": {
        "id": "8Yr1gsm1LBFG"
      }
    },
    {
      "cell_type": "code",
      "source": [
        "df.info()"
      ],
      "metadata": {
        "colab": {
          "base_uri": "https://localhost:8080/"
        },
        "id": "83FsY4ZtW7X3",
        "outputId": "89cd60a3-e235-4eca-94ee-25e97f30fd8c"
      },
      "execution_count": 442,
      "outputs": [
        {
          "output_type": "stream",
          "name": "stdout",
          "text": [
            "<class 'pandas.core.frame.DataFrame'>\n",
            "RangeIndex: 2966 entries, 0 to 2965\n",
            "Data columns (total 8 columns):\n",
            " #   Column             Non-Null Count  Dtype \n",
            "---  ------             --------------  ----- \n",
            " 0   Age                2966 non-null   int64 \n",
            " 1   Gender             2966 non-null   object\n",
            " 2   Stream             2966 non-null   object\n",
            " 3   Internships        2966 non-null   int64 \n",
            " 4   CGPA               2966 non-null   int64 \n",
            " 5   Hostel             2966 non-null   int64 \n",
            " 6   HistoryOfBacklogs  2966 non-null   int64 \n",
            " 7   PlacedOrNot        2966 non-null   int64 \n",
            "dtypes: int64(6), object(2)\n",
            "memory usage: 185.5+ KB\n"
          ]
        }
      ]
    },
    {
      "cell_type": "code",
      "source": [
        "df.isna().sum()"
      ],
      "metadata": {
        "colab": {
          "base_uri": "https://localhost:8080/"
        },
        "id": "TwFYfur1W-cw",
        "outputId": "55c93c1f-4c89-449e-c53f-0a7ae780f5f6"
      },
      "execution_count": 443,
      "outputs": [
        {
          "output_type": "execute_result",
          "data": {
            "text/plain": [
              "Age                  0\n",
              "Gender               0\n",
              "Stream               0\n",
              "Internships          0\n",
              "CGPA                 0\n",
              "Hostel               0\n",
              "HistoryOfBacklogs    0\n",
              "PlacedOrNot          0\n",
              "dtype: int64"
            ]
          },
          "metadata": {},
          "execution_count": 443
        }
      ]
    },
    {
      "cell_type": "code",
      "source": [
        "sns.countplot(x=\"Gender\",data=df)"
      ],
      "metadata": {
        "colab": {
          "base_uri": "https://localhost:8080/",
          "height": 467
        },
        "id": "gcRzFkDFXSrS",
        "outputId": "6f2659b1-a7e8-4597-ca47-475f16503350"
      },
      "execution_count": 444,
      "outputs": [
        {
          "output_type": "execute_result",
          "data": {
            "text/plain": [
              "<Axes: xlabel='Gender', ylabel='count'>"
            ]
          },
          "metadata": {},
          "execution_count": 444
        },
        {
          "output_type": "display_data",
          "data": {
            "text/plain": [
              "<Figure size 640x480 with 1 Axes>"
            ],
            "image/png": "[encoded data removed]"
          },
          "metadata": {}
        }
      ]
    },
    {
      "cell_type": "markdown",
      "source": [
        "* Total Number of Males are greater than females"
      ],
      "metadata": {
        "id": "P_JcZE_JKnmQ"
      }
    },
    {
      "cell_type": "code",
      "source": [
        "df ['Stream'].value_counts().plot(kind=\"bar\",title=\"Stream\")\n"
      ],
      "metadata": {
        "colab": {
          "base_uri": "https://localhost:8080/",
          "height": 677
        },
        "id": "YMHrbBDKXi3n",
        "outputId": "4cebcbb6-4d4a-49c1-c867-526045f03c70"
      },
      "execution_count": 445,
      "outputs": [
        {
          "output_type": "execute_result",
          "data": {
            "text/plain": [
              "<Axes: title={'center': 'Stream'}>"
            ]
          },
          "metadata": {},
          "execution_count": 445
        },
        {
          "output_type": "display_data",
          "data": {
            "text/plain": [
              "<Figure size 640x480 with 1 Axes>"
            ],
            "image/png": "[encoded data removed]"
          },
          "metadata": {}
        }
      ]
    },
    {
      "cell_type": "code",
      "source": [
        "plt.figure(figsize=(10,8))\n",
        "sns.barplot(data=df, x=\"Stream\", y=\"PlacedOrNot\",hue =\"Gender\")\n",
        "plt.show()"
      ],
      "metadata": {
        "colab": {
          "base_uri": "https://localhost:8080/",
          "height": 696
        },
        "id": "inBbT6DWXIlh",
        "outputId": "0b6aaab6-e5b2-45b7-adee-fa1dce8e3484"
      },
      "execution_count": 446,
      "outputs": [
        {
          "output_type": "display_data",
          "data": {
            "text/plain": [
              "<Figure size 1000x800 with 1 Axes>"
            ],
            "image/png": "[encoded data removed]"
          },
          "metadata": {}
        }
      ]
    },
    {
      "cell_type": "code",
      "source": [
        "df[\"PlacedOrNot\"].value_counts().plot(kind='bar')"
      ],
      "metadata": {
        "colab": {
          "base_uri": "https://localhost:8080/",
          "height": 443
        },
        "id": "VE8i9gHMddrI",
        "outputId": "84c27471-56ab-46ad-fb82-66bc550ea8db"
      },
      "execution_count": 447,
      "outputs": [
        {
          "output_type": "execute_result",
          "data": {
            "text/plain": [
              "<Axes: >"
            ]
          },
          "metadata": {},
          "execution_count": 447
        },
        {
          "output_type": "display_data",
          "data": {
            "text/plain": [
              "<Figure size 640x480 with 1 Axes>"
            ],
            "image/png": "[encoded data removed]"
          },
          "metadata": {}
        }
      ]
    },
    {
      "cell_type": "code",
      "source": [
        "sns.heatmap(df.corr(),annot = True)"
      ],
      "metadata": {
        "colab": {
          "base_uri": "https://localhost:8080/",
          "height": 567
        },
        "id": "zUEoc_OpsQH7",
        "outputId": "f44489b7-0cd9-414e-a2ca-e240498d80ea"
      },
      "execution_count": 448,
      "outputs": [
        {
          "output_type": "execute_result",
          "data": {
            "text/plain": [
              "<Axes: >"
            ]
          },
          "metadata": {},
          "execution_count": 448
        },
        {
          "output_type": "display_data",
          "data": {
            "text/plain": [
              "<Figure size 640x480 with 2 Axes>"
            ],
            "image/png": "[encoded data removed]"
          },
          "metadata": {}
        }
      ]
    },
    {
      "cell_type": "markdown",
      "source": [
        "From the heatmap we can conclude that CGPA is highly correleated to our dependent variable than other independent variables.\n",
        "\n",
        "Hostel Column shows 0 correlation so it can be dropped."
      ],
      "metadata": {
        "id": "bSrE3yPPN0ll"
      }
    },
    {
      "cell_type": "code",
      "source": [
        "df.drop(\"Hostel\",axis=1,inplace=True)"
      ],
      "metadata": {
        "id": "Y6ZOncW1oplx"
      },
      "execution_count": 449,
      "outputs": []
    },
    {
      "cell_type": "markdown",
      "source": [
        "ENCODING"
      ],
      "metadata": {
        "id": "27I50FEVroRv"
      }
    },
    {
      "cell_type": "code",
      "source": [
        "from sklearn.preprocessing import LabelEncoder\n",
        "le=LabelEncoder()\n",
        "#Encoding Gender and Stream as it has object datatype.\n",
        "df[\"Gender\"]=le.fit_transform(df[\"Gender\"])\n",
        "df[\"Stream\"]=le.fit_transform(df[\"Stream\"])"
      ],
      "metadata": {
        "id": "4VDs3zVzYt7N"
      },
      "execution_count": 450,
      "outputs": []
    },
    {
      "cell_type": "code",
      "source": [
        "df.info()"
      ],
      "metadata": {
        "colab": {
          "base_uri": "https://localhost:8080/"
        },
        "id": "QH9jobwKZDHY",
        "outputId": "dfe71334-99e0-49a1-f611-33f5aa8807c2"
      },
      "execution_count": 451,
      "outputs": [
        {
          "output_type": "stream",
          "name": "stdout",
          "text": [
            "<class 'pandas.core.frame.DataFrame'>\n",
            "RangeIndex: 2966 entries, 0 to 2965\n",
            "Data columns (total 7 columns):\n",
            " #   Column             Non-Null Count  Dtype\n",
            "---  ------             --------------  -----\n",
            " 0   Age                2966 non-null   int64\n",
            " 1   Gender             2966 non-null   int64\n",
            " 2   Stream             2966 non-null   int64\n",
            " 3   Internships        2966 non-null   int64\n",
            " 4   CGPA               2966 non-null   int64\n",
            " 5   HistoryOfBacklogs  2966 non-null   int64\n",
            " 6   PlacedOrNot        2966 non-null   int64\n",
            "dtypes: int64(7)\n",
            "memory usage: 162.3 KB\n"
          ]
        }
      ]
    },
    {
      "cell_type": "markdown",
      "source": [
        "# SPLITTING THE DATASET"
      ],
      "metadata": {
        "id": "B1eaykHCLSJ_"
      }
    },
    {
      "cell_type": "code",
      "source": [
        "x=df.iloc[:,:-1] #Indpendent Features\n",
        "y=df.iloc[:,-1] #Dependent Feature"
      ],
      "metadata": {
        "id": "4CgKcFB_ZFLx"
      },
      "execution_count": 452,
      "outputs": []
    },
    {
      "cell_type": "code",
      "source": [
        "from sklearn.model_selection import train_test_split\n",
        "\n",
        "#Splitting the dataset into train and test dataset.\n",
        "x_train,x_test,y_train,y_test=train_test_split(x,y,test_size=0.2,random_state=2)"
      ],
      "metadata": {
        "id": "3M32aw0KZzCS"
      },
      "execution_count": 453,
      "outputs": []
    },
    {
      "cell_type": "markdown",
      "source": [
        "# APPLYING LOGISTIC REGRESSION"
      ],
      "metadata": {
        "id": "1yRl_1k5NCGK"
      }
    },
    {
      "cell_type": "markdown",
      "source": [
        "Logistic Regression is a process of modeling the probability of a discrete outcome given an input variable.\n",
        "\n",
        "Logistic Regression is used when the dependent variable(target) is categorical, and consists of a single binary dependent variable,where two values are labeled “0” and “1”."
      ],
      "metadata": {
        "id": "V4M4gt4ALkX8"
      }
    },
    {
      "cell_type": "code",
      "source": [
        "from sklearn.metrics import accuracy_score,classification_report,confusion_matrix\n",
        "\n",
        "#Calculating the accuracy of different models using an user defined function.\n",
        "\n",
        "def report(x,y):\n",
        "  print(\"Accuracy Score : \",accuracy_score(x,y))\n",
        "  print(\"Confusion Matrix : \",confusion_matrix(x,y))\n",
        "  print(\"Classification Report : \",classification_report(x,y))"
      ],
      "metadata": {
        "id": "U6-8r5E9aVij"
      },
      "execution_count": 454,
      "outputs": []
    },
    {
      "cell_type": "code",
      "source": [
        "from sklearn.linear_model import LogisticRegression\n",
        "lr=LogisticRegression()\n",
        "lr.fit(x_train,y_train) #Training the model"
      ],
      "metadata": {
        "colab": {
          "base_uri": "https://localhost:8080/",
          "height": 74
        },
        "id": "8nRfADboZqAC",
        "outputId": "7c5f3d34-479a-45d6-f897-365db1de72ef"
      },
      "execution_count": 455,
      "outputs": [
        {
          "output_type": "execute_result",
          "data": {
            "text/plain": [
              "LogisticRegression()"
            ],
            "text/html": [
              "<style>#sk-container-id-83 {color: black;background-color: white;}#sk-container-id-83 pre{padding: 0;}#sk-container-id-83 div.sk-toggleable {background-color: white;}#sk-container-id-83 label.sk-toggleable__label {cursor: pointer;display: block;width: 100%;margin-bottom: 0;padding: 0.3em;box-sizing: border-box;text-align: center;}#sk-container-id-83 label.sk-toggleable__label-arrow:before {content: \"▸\";float: left;margin-right: 0.25em;color: #696969;}#sk-container-id-83 label.sk-toggleable__label-arrow:hover:before {color: black;}#sk-container-id-83 div.sk-estimator:hover label.sk-toggleable__label-arrow:before {color: black;}#sk-container-id-83 div.sk-toggleable__content {max-height: 0;max-width: 0;overflow: hidden;text-align: left;background-color: #f0f8ff;}#sk-container-id-83 div.sk-toggleable__content pre {margin: 0.2em;color: black;border-radius: 0.25em;background-color: #f0f8ff;}#sk-container-id-83 input.sk-toggleable__control:checked~div.sk-toggleable__content {max-height: 200px;max-width: 100%;overflow: auto;}#sk-container-id-83 input.sk-toggleable__control:checked~label.sk-toggleable__label-arrow:before {content: \"▾\";}#sk-container-id-83 div.sk-estimator input.sk-toggleable__control:checked~label.sk-toggleable__label {background-color: #d4ebff;}#sk-container-id-83 div.sk-label input.sk-toggleable__control:checked~label.sk-toggleable__label {background-color: #d4ebff;}#sk-container-id-83 input.sk-hidden--visually {border: 0;clip: rect(1px 1px 1px 1px);clip: rect(1px, 1px, 1px, 1px);height: 1px;margin: -1px;overflow: hidden;padding: 0;position: absolute;width: 1px;}#sk-container-id-83 div.sk-estimator {font-family: monospace;background-color: #f0f8ff;border: 1px dotted black;border-radius: 0.25em;box-sizing: border-box;margin-bottom: 0.5em;}#sk-container-id-83 div.sk-estimator:hover {background-color: #d4ebff;}#sk-container-id-83 div.sk-parallel-item::after {content: \"\";width: 100%;border-bottom: 1px solid gray;flex-grow: 1;}#sk-container-id-83 div.sk-label:hover label.sk-toggleable__label {background-color: #d4ebff;}#sk-container-id-83 div.sk-serial::before {content: \"\";position: absolute;border-left: 1px solid gray;box-sizing: border-box;top: 0;bottom: 0;left: 50%;z-index: 0;}#sk-container-id-83 div.sk-serial {display: flex;flex-direction: column;align-items: center;background-color: white;padding-right: 0.2em;padding-left: 0.2em;position: relative;}#sk-container-id-83 div.sk-item {position: relative;z-index: 1;}#sk-container-id-83 div.sk-parallel {display: flex;align-items: stretch;justify-content: center;background-color: white;position: relative;}#sk-container-id-83 div.sk-item::before, #sk-container-id-83 div.sk-parallel-item::before {content: \"\";position: absolute;border-left: 1px solid gray;box-sizing: border-box;top: 0;bottom: 0;left: 50%;z-index: -1;}#sk-container-id-83 div.sk-parallel-item {display: flex;flex-direction: column;z-index: 1;position: relative;background-color: white;}#sk-container-id-83 div.sk-parallel-item:first-child::after {align-self: flex-end;width: 50%;}#sk-container-id-83 div.sk-parallel-item:last-child::after {align-self: flex-start;width: 50%;}#sk-container-id-83 div.sk-parallel-item:only-child::after {width: 0;}#sk-container-id-83 div.sk-dashed-wrapped {border: 1px dashed gray;margin: 0 0.4em 0.5em 0.4em;box-sizing: border-box;padding-bottom: 0.4em;background-color: white;}#sk-container-id-83 div.sk-label label {font-family: monospace;font-weight: bold;display: inline-block;line-height: 1.2em;}#sk-container-id-83 div.sk-label-container {text-align: center;}#sk-container-id-83 div.sk-container {/* jupyter's `normalize.less` sets `[hidden] { display: none; }` but bootstrap.min.css set `[hidden] { display: none !important; }` so we also need the `!important` here to be able to override the default hidden behavior on the sphinx rendered scikit-learn.org. See: https://github.com/scikit-learn/scikit-learn/issues/21755 */display: inline-block !important;position: relative;}#sk-container-id-83 div.sk-text-repr-fallback {display: none;}</style><div id=\"sk-container-id-83\" class=\"sk-top-container\"><div class=\"sk-text-repr-fallback\"><pre>LogisticRegression()</pre><b>In a Jupyter environment, please rerun this cell to show the HTML representation or trust the notebook. <br />On GitHub, the HTML representation is unable to render, please try loading this page with nbviewer.org.</b></div><div class=\"sk-container\" hidden><div class=\"sk-item\"><div class=\"sk-estimator sk-toggleable\"><input class=\"sk-toggleable__control sk-hidden--visually\" id=\"sk-estimator-id-83\" type=\"checkbox\" checked><label for=\"sk-estimator-id-83\" class=\"sk-toggleable__label sk-toggleable__label-arrow\">LogisticRegression</label><div class=\"sk-toggleable__content\"><pre>LogisticRegression()</pre></div></div></div></div></div>"
            ]
          },
          "metadata": {},
          "execution_count": 455
        }
      ]
    },
    {
      "cell_type": "code",
      "source": [
        "#Prediction\n",
        "\n",
        "y_pred_train_lr=lr.predict(x_train)\n",
        "y_pred_test_lr=lr.predict(x_test)"
      ],
      "metadata": {
        "id": "YUrJj1WXaCfC"
      },
      "execution_count": 456,
      "outputs": []
    },
    {
      "cell_type": "code",
      "source": [
        "#Displaying the result\n",
        "\n",
        "report(y_train,y_pred_train_lr)"
      ],
      "metadata": {
        "colab": {
          "base_uri": "https://localhost:8080/"
        },
        "id": "yL-Wph4QasO8",
        "outputId": "ae202e4a-940b-4022-9a5e-ebedb1a1d63e"
      },
      "execution_count": 457,
      "outputs": [
        {
          "output_type": "stream",
          "name": "stdout",
          "text": [
            "Accuracy Score :  0.7723440134907251\n",
            "Confusion Matrix :  [[ 781  265]\n",
            " [ 275 1051]]\n",
            "Classification Report :                precision    recall  f1-score   support\n",
            "\n",
            "           0       0.74      0.75      0.74      1046\n",
            "           1       0.80      0.79      0.80      1326\n",
            "\n",
            "    accuracy                           0.77      2372\n",
            "   macro avg       0.77      0.77      0.77      2372\n",
            "weighted avg       0.77      0.77      0.77      2372\n",
            "\n"
          ]
        }
      ]
    },
    {
      "cell_type": "markdown",
      "source": [
        "Precision \n",
        "\n",
        "Precision is the ability of a classifier not to label an instance positive that is actually negative.\n",
        " It is defined as the ratio of true positives to the sum of true and false positives.\n",
        "\n",
        "Recall \n",
        "\n",
        "Recall is the ability of a classifier to find all positive instances. For each class it is defined as the ratio of true positives to the sum of true positives and false negatives.\n",
        "\n",
        "F1-Score\n",
        "\n",
        "The F1 score is a weighted harmonic mean of precision and recall.\n",
        "\n",
        "\n"
      ],
      "metadata": {
        "id": "knwQtHXNKv1d"
      }
    },
    {
      "cell_type": "code",
      "source": [
        "report(y_test,y_pred_test_lr)"
      ],
      "metadata": {
        "colab": {
          "base_uri": "https://localhost:8080/"
        },
        "id": "msCMh3vlaRYe",
        "outputId": "d3a1ccf2-ed16-4dd6-b72a-58fe721c4fcb"
      },
      "execution_count": 458,
      "outputs": [
        {
          "output_type": "stream",
          "name": "stdout",
          "text": [
            "Accuracy Score :  0.7542087542087542\n",
            "Confusion Matrix :  [[198  83]\n",
            " [ 63 250]]\n",
            "Classification Report :                precision    recall  f1-score   support\n",
            "\n",
            "           0       0.76      0.70      0.73       281\n",
            "           1       0.75      0.80      0.77       313\n",
            "\n",
            "    accuracy                           0.75       594\n",
            "   macro avg       0.75      0.75      0.75       594\n",
            "weighted avg       0.75      0.75      0.75       594\n",
            "\n"
          ]
        }
      ]
    },
    {
      "cell_type": "markdown",
      "source": [
        "# APPLYING DECISION TREE"
      ],
      "metadata": {
        "id": "ewUNVzsoNN7D"
      }
    },
    {
      "cell_type": "markdown",
      "source": [
        "It is a rule-based approach to classification and regression problems, using the values in each feature to split the dataset to a point where all data points that have the same class are grouped together."
      ],
      "metadata": {
        "id": "HuJIKpvlME6n"
      }
    },
    {
      "cell_type": "code",
      "source": [
        "from sklearn.tree import DecisionTreeClassifier\n",
        "dtc=DecisionTreeClassifier(max_depth=25,min_samples_split=18)\n",
        "dtc.fit(x_train,y_train) #Training the model"
      ],
      "metadata": {
        "colab": {
          "base_uri": "https://localhost:8080/",
          "height": 74
        },
        "id": "9xZ-hLXSazLu",
        "outputId": "f67eb6ae-7518-4e48-b266-012dd3c25a67"
      },
      "execution_count": 459,
      "outputs": [
        {
          "output_type": "execute_result",
          "data": {
            "text/plain": [
              "DecisionTreeClassifier(max_depth=25, min_samples_split=18)"
            ],
            "text/html": [
              "<style>#sk-container-id-84 {color: black;background-color: white;}#sk-container-id-84 pre{padding: 0;}#sk-container-id-84 div.sk-toggleable {background-color: white;}#sk-container-id-84 label.sk-toggleable__label {cursor: pointer;display: block;width: 100%;margin-bottom: 0;padding: 0.3em;box-sizing: border-box;text-align: center;}#sk-container-id-84 label.sk-toggleable__label-arrow:before {content: \"▸\";float: left;margin-right: 0.25em;color: #696969;}#sk-container-id-84 label.sk-toggleable__label-arrow:hover:before {color: black;}#sk-container-id-84 div.sk-estimator:hover label.sk-toggleable__label-arrow:before {color: black;}#sk-container-id-84 div.sk-toggleable__content {max-height: 0;max-width: 0;overflow: hidden;text-align: left;background-color: #f0f8ff;}#sk-container-id-84 div.sk-toggleable__content pre {margin: 0.2em;color: black;border-radius: 0.25em;background-color: #f0f8ff;}#sk-container-id-84 input.sk-toggleable__control:checked~div.sk-toggleable__content {max-height: 200px;max-width: 100%;overflow: auto;}#sk-container-id-84 input.sk-toggleable__control:checked~label.sk-toggleable__label-arrow:before {content: \"▾\";}#sk-container-id-84 div.sk-estimator input.sk-toggleable__control:checked~label.sk-toggleable__label {background-color: #d4ebff;}#sk-container-id-84 div.sk-label input.sk-toggleable__control:checked~label.sk-toggleable__label {background-color: #d4ebff;}#sk-container-id-84 input.sk-hidden--visually {border: 0;clip: rect(1px 1px 1px 1px);clip: rect(1px, 1px, 1px, 1px);height: 1px;margin: -1px;overflow: hidden;padding: 0;position: absolute;width: 1px;}#sk-container-id-84 div.sk-estimator {font-family: monospace;background-color: #f0f8ff;border: 1px dotted black;border-radius: 0.25em;box-sizing: border-box;margin-bottom: 0.5em;}#sk-container-id-84 div.sk-estimator:hover {background-color: #d4ebff;}#sk-container-id-84 div.sk-parallel-item::after {content: \"\";width: 100%;border-bottom: 1px solid gray;flex-grow: 1;}#sk-container-id-84 div.sk-label:hover label.sk-toggleable__label {background-color: #d4ebff;}#sk-container-id-84 div.sk-serial::before {content: \"\";position: absolute;border-left: 1px solid gray;box-sizing: border-box;top: 0;bottom: 0;left: 50%;z-index: 0;}#sk-container-id-84 div.sk-serial {display: flex;flex-direction: column;align-items: center;background-color: white;padding-right: 0.2em;padding-left: 0.2em;position: relative;}#sk-container-id-84 div.sk-item {position: relative;z-index: 1;}#sk-container-id-84 div.sk-parallel {display: flex;align-items: stretch;justify-content: center;background-color: white;position: relative;}#sk-container-id-84 div.sk-item::before, #sk-container-id-84 div.sk-parallel-item::before {content: \"\";position: absolute;border-left: 1px solid gray;box-sizing: border-box;top: 0;bottom: 0;left: 50%;z-index: -1;}#sk-container-id-84 div.sk-parallel-item {display: flex;flex-direction: column;z-index: 1;position: relative;background-color: white;}#sk-container-id-84 div.sk-parallel-item:first-child::after {align-self: flex-end;width: 50%;}#sk-container-id-84 div.sk-parallel-item:last-child::after {align-self: flex-start;width: 50%;}#sk-container-id-84 div.sk-parallel-item:only-child::after {width: 0;}#sk-container-id-84 div.sk-dashed-wrapped {border: 1px dashed gray;margin: 0 0.4em 0.5em 0.4em;box-sizing: border-box;padding-bottom: 0.4em;background-color: white;}#sk-container-id-84 div.sk-label label {font-family: monospace;font-weight: bold;display: inline-block;line-height: 1.2em;}#sk-container-id-84 div.sk-label-container {text-align: center;}#sk-container-id-84 div.sk-container {/* jupyter's `normalize.less` sets `[hidden] { display: none; }` but bootstrap.min.css set `[hidden] { display: none !important; }` so we also need the `!important` here to be able to override the default hidden behavior on the sphinx rendered scikit-learn.org. See: https://github.com/scikit-learn/scikit-learn/issues/21755 */display: inline-block !important;position: relative;}#sk-container-id-84 div.sk-text-repr-fallback {display: none;}</style><div id=\"sk-container-id-84\" class=\"sk-top-container\"><div class=\"sk-text-repr-fallback\"><pre>DecisionTreeClassifier(max_depth=25, min_samples_split=18)</pre><b>In a Jupyter environment, please rerun this cell to show the HTML representation or trust the notebook. <br />On GitHub, the HTML representation is unable to render, please try loading this page with nbviewer.org.</b></div><div class=\"sk-container\" hidden><div class=\"sk-item\"><div class=\"sk-estimator sk-toggleable\"><input class=\"sk-toggleable__control sk-hidden--visually\" id=\"sk-estimator-id-84\" type=\"checkbox\" checked><label for=\"sk-estimator-id-84\" class=\"sk-toggleable__label sk-toggleable__label-arrow\">DecisionTreeClassifier</label><div class=\"sk-toggleable__content\"><pre>DecisionTreeClassifier(max_depth=25, min_samples_split=18)</pre></div></div></div></div></div>"
            ]
          },
          "metadata": {},
          "execution_count": 459
        }
      ]
    },
    {
      "cell_type": "code",
      "source": [
        "#Prediction\n",
        "\n",
        "y_pred_train_dtc=dtc.predict(x_train)\n",
        "y_pred_test_dtc=dtc.predict(x_test)"
      ],
      "metadata": {
        "id": "P7j8rf3sbHFc"
      },
      "execution_count": 460,
      "outputs": []
    },
    {
      "cell_type": "code",
      "source": [
        "#Displaying the result\n",
        "\n",
        "report(y_train,y_pred_train_dtc)"
      ],
      "metadata": {
        "colab": {
          "base_uri": "https://localhost:8080/"
        },
        "id": "MM86jCqCbQux",
        "outputId": "46471405-27af-478a-bd55-c85f8343ceb3"
      },
      "execution_count": 461,
      "outputs": [
        {
          "output_type": "stream",
          "name": "stdout",
          "text": [
            "Accuracy Score :  0.9034569983136593\n",
            "Confusion Matrix :  [[1000   46]\n",
            " [ 183 1143]]\n",
            "Classification Report :                precision    recall  f1-score   support\n",
            "\n",
            "           0       0.85      0.96      0.90      1046\n",
            "           1       0.96      0.86      0.91      1326\n",
            "\n",
            "    accuracy                           0.90      2372\n",
            "   macro avg       0.90      0.91      0.90      2372\n",
            "weighted avg       0.91      0.90      0.90      2372\n",
            "\n"
          ]
        }
      ]
    },
    {
      "cell_type": "code",
      "source": [
        "report(y_test,y_pred_test_dtc)"
      ],
      "metadata": {
        "colab": {
          "base_uri": "https://localhost:8080/"
        },
        "id": "iC9R-8anbWiM",
        "outputId": "6f46b4dc-ce6c-4e64-f1f9-781fd2f34946"
      },
      "execution_count": 462,
      "outputs": [
        {
          "output_type": "stream",
          "name": "stdout",
          "text": [
            "Accuracy Score :  0.8787878787878788\n",
            "Confusion Matrix :  [[258  23]\n",
            " [ 49 264]]\n",
            "Classification Report :                precision    recall  f1-score   support\n",
            "\n",
            "           0       0.84      0.92      0.88       281\n",
            "           1       0.92      0.84      0.88       313\n",
            "\n",
            "    accuracy                           0.88       594\n",
            "   macro avg       0.88      0.88      0.88       594\n",
            "weighted avg       0.88      0.88      0.88       594\n",
            "\n"
          ]
        }
      ]
    },
    {
      "cell_type": "markdown",
      "source": [
        "# APPLYING RANDOM FOREST"
      ],
      "metadata": {
        "id": "DbY88W1HOJ8C"
      }
    },
    {
      "cell_type": "markdown",
      "source": [
        "It is a meta estimator that fits a number of decision tree classifiers on various sub-samples of the dataset and uses averaging to improve the predictive accuracy and control over-fitting."
      ],
      "metadata": {
        "id": "9CKIQdfmMV_S"
      }
    },
    {
      "cell_type": "code",
      "source": [
        "from sklearn.ensemble import RandomForestClassifier\n",
        "rfc=RandomForestClassifier(n_estimators=265)\n",
        "rfc.fit(x_train,y_train) #Training the model"
      ],
      "metadata": {
        "colab": {
          "base_uri": "https://localhost:8080/",
          "height": 74
        },
        "id": "ghmRV6XHbZCZ",
        "outputId": "208c30c3-4393-4ca9-c4a7-f02860897216"
      },
      "execution_count": 463,
      "outputs": [
        {
          "output_type": "execute_result",
          "data": {
            "text/plain": [
              "RandomForestClassifier(n_estimators=265)"
            ],
            "text/html": [
              "<style>#sk-container-id-85 {color: black;background-color: white;}#sk-container-id-85 pre{padding: 0;}#sk-container-id-85 div.sk-toggleable {background-color: white;}#sk-container-id-85 label.sk-toggleable__label {cursor: pointer;display: block;width: 100%;margin-bottom: 0;padding: 0.3em;box-sizing: border-box;text-align: center;}#sk-container-id-85 label.sk-toggleable__label-arrow:before {content: \"▸\";float: left;margin-right: 0.25em;color: #696969;}#sk-container-id-85 label.sk-toggleable__label-arrow:hover:before {color: black;}#sk-container-id-85 div.sk-estimator:hover label.sk-toggleable__label-arrow:before {color: black;}#sk-container-id-85 div.sk-toggleable__content {max-height: 0;max-width: 0;overflow: hidden;text-align: left;background-color: #f0f8ff;}#sk-container-id-85 div.sk-toggleable__content pre {margin: 0.2em;color: black;border-radius: 0.25em;background-color: #f0f8ff;}#sk-container-id-85 input.sk-toggleable__control:checked~div.sk-toggleable__content {max-height: 200px;max-width: 100%;overflow: auto;}#sk-container-id-85 input.sk-toggleable__control:checked~label.sk-toggleable__label-arrow:before {content: \"▾\";}#sk-container-id-85 div.sk-estimator input.sk-toggleable__control:checked~label.sk-toggleable__label {background-color: #d4ebff;}#sk-container-id-85 div.sk-label input.sk-toggleable__control:checked~label.sk-toggleable__label {background-color: #d4ebff;}#sk-container-id-85 input.sk-hidden--visually {border: 0;clip: rect(1px 1px 1px 1px);clip: rect(1px, 1px, 1px, 1px);height: 1px;margin: -1px;overflow: hidden;padding: 0;position: absolute;width: 1px;}#sk-container-id-85 div.sk-estimator {font-family: monospace;background-color: #f0f8ff;border: 1px dotted black;border-radius: 0.25em;box-sizing: border-box;margin-bottom: 0.5em;}#sk-container-id-85 div.sk-estimator:hover {background-color: #d4ebff;}#sk-container-id-85 div.sk-parallel-item::after {content: \"\";width: 100%;border-bottom: 1px solid gray;flex-grow: 1;}#sk-container-id-85 div.sk-label:hover label.sk-toggleable__label {background-color: #d4ebff;}#sk-container-id-85 div.sk-serial::before {content: \"\";position: absolute;border-left: 1px solid gray;box-sizing: border-box;top: 0;bottom: 0;left: 50%;z-index: 0;}#sk-container-id-85 div.sk-serial {display: flex;flex-direction: column;align-items: center;background-color: white;padding-right: 0.2em;padding-left: 0.2em;position: relative;}#sk-container-id-85 div.sk-item {position: relative;z-index: 1;}#sk-container-id-85 div.sk-parallel {display: flex;align-items: stretch;justify-content: center;background-color: white;position: relative;}#sk-container-id-85 div.sk-item::before, #sk-container-id-85 div.sk-parallel-item::before {content: \"\";position: absolute;border-left: 1px solid gray;box-sizing: border-box;top: 0;bottom: 0;left: 50%;z-index: -1;}#sk-container-id-85 div.sk-parallel-item {display: flex;flex-direction: column;z-index: 1;position: relative;background-color: white;}#sk-container-id-85 div.sk-parallel-item:first-child::after {align-self: flex-end;width: 50%;}#sk-container-id-85 div.sk-parallel-item:last-child::after {align-self: flex-start;width: 50%;}#sk-container-id-85 div.sk-parallel-item:only-child::after {width: 0;}#sk-container-id-85 div.sk-dashed-wrapped {border: 1px dashed gray;margin: 0 0.4em 0.5em 0.4em;box-sizing: border-box;padding-bottom: 0.4em;background-color: white;}#sk-container-id-85 div.sk-label label {font-family: monospace;font-weight: bold;display: inline-block;line-height: 1.2em;}#sk-container-id-85 div.sk-label-container {text-align: center;}#sk-container-id-85 div.sk-container {/* jupyter's `normalize.less` sets `[hidden] { display: none; }` but bootstrap.min.css set `[hidden] { display: none !important; }` so we also need the `!important` here to be able to override the default hidden behavior on the sphinx rendered scikit-learn.org. See: https://github.com/scikit-learn/scikit-learn/issues/21755 */display: inline-block !important;position: relative;}#sk-container-id-85 div.sk-text-repr-fallback {display: none;}</style><div id=\"sk-container-id-85\" class=\"sk-top-container\"><div class=\"sk-text-repr-fallback\"><pre>RandomForestClassifier(n_estimators=265)</pre><b>In a Jupyter environment, please rerun this cell to show the HTML representation or trust the notebook. <br />On GitHub, the HTML representation is unable to render, please try loading this page with nbviewer.org.</b></div><div class=\"sk-container\" hidden><div class=\"sk-item\"><div class=\"sk-estimator sk-toggleable\"><input class=\"sk-toggleable__control sk-hidden--visually\" id=\"sk-estimator-id-85\" type=\"checkbox\" checked><label for=\"sk-estimator-id-85\" class=\"sk-toggleable__label sk-toggleable__label-arrow\">RandomForestClassifier</label><div class=\"sk-toggleable__content\"><pre>RandomForestClassifier(n_estimators=265)</pre></div></div></div></div></div>"
            ]
          },
          "metadata": {},
          "execution_count": 463
        }
      ]
    },
    {
      "cell_type": "code",
      "source": [
        "#Prediction\n",
        "\n",
        "y_pred_train_rfc=rfc.predict(x_train)\n",
        "y_pred_test_rfc=rfc.predict(x_test)"
      ],
      "metadata": {
        "id": "N0XI_z_Sc933"
      },
      "execution_count": 464,
      "outputs": []
    },
    {
      "cell_type": "code",
      "source": [
        "#Displaying the result\n",
        "\n",
        "report(y_train,y_pred_train_rfc)"
      ],
      "metadata": {
        "colab": {
          "base_uri": "https://localhost:8080/"
        },
        "id": "prOqhhcpdIbo",
        "outputId": "ad3628b8-b92e-42db-87cb-a8b684049b7d"
      },
      "execution_count": 465,
      "outputs": [
        {
          "output_type": "stream",
          "name": "stdout",
          "text": [
            "Accuracy Score :  0.9190556492411467\n",
            "Confusion Matrix :  [[1010   36]\n",
            " [ 156 1170]]\n",
            "Classification Report :                precision    recall  f1-score   support\n",
            "\n",
            "           0       0.87      0.97      0.91      1046\n",
            "           1       0.97      0.88      0.92      1326\n",
            "\n",
            "    accuracy                           0.92      2372\n",
            "   macro avg       0.92      0.92      0.92      2372\n",
            "weighted avg       0.92      0.92      0.92      2372\n",
            "\n"
          ]
        }
      ]
    },
    {
      "cell_type": "code",
      "source": [
        "report(y_test,y_pred_test_rfc)"
      ],
      "metadata": {
        "colab": {
          "base_uri": "https://localhost:8080/"
        },
        "id": "Z6a8IaSGdL-P",
        "outputId": "e0155831-cc94-4921-dc8f-df2a1f7c80e0"
      },
      "execution_count": 466,
      "outputs": [
        {
          "output_type": "stream",
          "name": "stdout",
          "text": [
            "Accuracy Score :  0.8686868686868687\n",
            "Confusion Matrix :  [[252  29]\n",
            " [ 49 264]]\n",
            "Classification Report :                precision    recall  f1-score   support\n",
            "\n",
            "           0       0.84      0.90      0.87       281\n",
            "           1       0.90      0.84      0.87       313\n",
            "\n",
            "    accuracy                           0.87       594\n",
            "   macro avg       0.87      0.87      0.87       594\n",
            "weighted avg       0.87      0.87      0.87       594\n",
            "\n"
          ]
        }
      ]
    },
    {
      "cell_type": "markdown",
      "source": [
        "# APPLYING KNN"
      ],
      "metadata": {
        "id": "qt66WD82OORk"
      }
    },
    {
      "cell_type": "markdown",
      "source": [
        "The k-nearest neighbors algorithm (k-NN) is a non-parametric supervised learning method.\n",
        "\n",
        "It can be used for either regression or classification problems, working off the assumption that similar points can be found near one another."
      ],
      "metadata": {
        "id": "xcfmSIpgMfCU"
      }
    },
    {
      "cell_type": "code",
      "source": [
        "from sklearn.neighbors import KNeighborsClassifier\n",
        "knn=KNeighborsClassifier(n_neighbors=55) #SQRT OF TOTAL NO OF RECORDS(55)\n",
        "knn.fit(x_train,y_train) #Training the model"
      ],
      "metadata": {
        "colab": {
          "base_uri": "https://localhost:8080/",
          "height": 74
        },
        "id": "iisnKlcqdPhy",
        "outputId": "88d7cba5-e659-490e-da23-10545d1e7b1f"
      },
      "execution_count": 467,
      "outputs": [
        {
          "output_type": "execute_result",
          "data": {
            "text/plain": [
              "KNeighborsClassifier(n_neighbors=55)"
            ],
            "text/html": [
              "<style>#sk-container-id-86 {color: black;background-color: white;}#sk-container-id-86 pre{padding: 0;}#sk-container-id-86 div.sk-toggleable {background-color: white;}#sk-container-id-86 label.sk-toggleable__label {cursor: pointer;display: block;width: 100%;margin-bottom: 0;padding: 0.3em;box-sizing: border-box;text-align: center;}#sk-container-id-86 label.sk-toggleable__label-arrow:before {content: \"▸\";float: left;margin-right: 0.25em;color: #696969;}#sk-container-id-86 label.sk-toggleable__label-arrow:hover:before {color: black;}#sk-container-id-86 div.sk-estimator:hover label.sk-toggleable__label-arrow:before {color: black;}#sk-container-id-86 div.sk-toggleable__content {max-height: 0;max-width: 0;overflow: hidden;text-align: left;background-color: #f0f8ff;}#sk-container-id-86 div.sk-toggleable__content pre {margin: 0.2em;color: black;border-radius: 0.25em;background-color: #f0f8ff;}#sk-container-id-86 input.sk-toggleable__control:checked~div.sk-toggleable__content {max-height: 200px;max-width: 100%;overflow: auto;}#sk-container-id-86 input.sk-toggleable__control:checked~label.sk-toggleable__label-arrow:before {content: \"▾\";}#sk-container-id-86 div.sk-estimator input.sk-toggleable__control:checked~label.sk-toggleable__label {background-color: #d4ebff;}#sk-container-id-86 div.sk-label input.sk-toggleable__control:checked~label.sk-toggleable__label {background-color: #d4ebff;}#sk-container-id-86 input.sk-hidden--visually {border: 0;clip: rect(1px 1px 1px 1px);clip: rect(1px, 1px, 1px, 1px);height: 1px;margin: -1px;overflow: hidden;padding: 0;position: absolute;width: 1px;}#sk-container-id-86 div.sk-estimator {font-family: monospace;background-color: #f0f8ff;border: 1px dotted black;border-radius: 0.25em;box-sizing: border-box;margin-bottom: 0.5em;}#sk-container-id-86 div.sk-estimator:hover {background-color: #d4ebff;}#sk-container-id-86 div.sk-parallel-item::after {content: \"\";width: 100%;border-bottom: 1px solid gray;flex-grow: 1;}#sk-container-id-86 div.sk-label:hover label.sk-toggleable__label {background-color: #d4ebff;}#sk-container-id-86 div.sk-serial::before {content: \"\";position: absolute;border-left: 1px solid gray;box-sizing: border-box;top: 0;bottom: 0;left: 50%;z-index: 0;}#sk-container-id-86 div.sk-serial {display: flex;flex-direction: column;align-items: center;background-color: white;padding-right: 0.2em;padding-left: 0.2em;position: relative;}#sk-container-id-86 div.sk-item {position: relative;z-index: 1;}#sk-container-id-86 div.sk-parallel {display: flex;align-items: stretch;justify-content: center;background-color: white;position: relative;}#sk-container-id-86 div.sk-item::before, #sk-container-id-86 div.sk-parallel-item::before {content: \"\";position: absolute;border-left: 1px solid gray;box-sizing: border-box;top: 0;bottom: 0;left: 50%;z-index: -1;}#sk-container-id-86 div.sk-parallel-item {display: flex;flex-direction: column;z-index: 1;position: relative;background-color: white;}#sk-container-id-86 div.sk-parallel-item:first-child::after {align-self: flex-end;width: 50%;}#sk-container-id-86 div.sk-parallel-item:last-child::after {align-self: flex-start;width: 50%;}#sk-container-id-86 div.sk-parallel-item:only-child::after {width: 0;}#sk-container-id-86 div.sk-dashed-wrapped {border: 1px dashed gray;margin: 0 0.4em 0.5em 0.4em;box-sizing: border-box;padding-bottom: 0.4em;background-color: white;}#sk-container-id-86 div.sk-label label {font-family: monospace;font-weight: bold;display: inline-block;line-height: 1.2em;}#sk-container-id-86 div.sk-label-container {text-align: center;}#sk-container-id-86 div.sk-container {/* jupyter's `normalize.less` sets `[hidden] { display: none; }` but bootstrap.min.css set `[hidden] { display: none !important; }` so we also need the `!important` here to be able to override the default hidden behavior on the sphinx rendered scikit-learn.org. See: https://github.com/scikit-learn/scikit-learn/issues/21755 */display: inline-block !important;position: relative;}#sk-container-id-86 div.sk-text-repr-fallback {display: none;}</style><div id=\"sk-container-id-86\" class=\"sk-top-container\"><div class=\"sk-text-repr-fallback\"><pre>KNeighborsClassifier(n_neighbors=55)</pre><b>In a Jupyter environment, please rerun this cell to show the HTML representation or trust the notebook. <br />On GitHub, the HTML representation is unable to render, please try loading this page with nbviewer.org.</b></div><div class=\"sk-container\" hidden><div class=\"sk-item\"><div class=\"sk-estimator sk-toggleable\"><input class=\"sk-toggleable__control sk-hidden--visually\" id=\"sk-estimator-id-86\" type=\"checkbox\" checked><label for=\"sk-estimator-id-86\" class=\"sk-toggleable__label sk-toggleable__label-arrow\">KNeighborsClassifier</label><div class=\"sk-toggleable__content\"><pre>KNeighborsClassifier(n_neighbors=55)</pre></div></div></div></div></div>"
            ]
          },
          "metadata": {},
          "execution_count": 467
        }
      ]
    },
    {
      "cell_type": "code",
      "source": [
        "#Prediction\n",
        "\n",
        "y_pred_train_knn=knn.predict(x_train)\n",
        "y_pred_test_knn=knn.predict(x_test)"
      ],
      "metadata": {
        "id": "LAMWaKB3drZ2"
      },
      "execution_count": 468,
      "outputs": []
    },
    {
      "cell_type": "code",
      "source": [
        "#Displaying the result\n",
        "\n",
        "report(y_train,y_pred_train_knn)"
      ],
      "metadata": {
        "colab": {
          "base_uri": "https://localhost:8080/"
        },
        "id": "Vg5g5h0Md9U9",
        "outputId": "3f30ebf9-cc86-4009-8ac1-23c3468f1f5f"
      },
      "execution_count": 469,
      "outputs": [
        {
          "output_type": "stream",
          "name": "stdout",
          "text": [
            "Accuracy Score :  0.8684654300168634\n",
            "Confusion Matrix :  [[ 967   79]\n",
            " [ 233 1093]]\n",
            "Classification Report :                precision    recall  f1-score   support\n",
            "\n",
            "           0       0.81      0.92      0.86      1046\n",
            "           1       0.93      0.82      0.88      1326\n",
            "\n",
            "    accuracy                           0.87      2372\n",
            "   macro avg       0.87      0.87      0.87      2372\n",
            "weighted avg       0.88      0.87      0.87      2372\n",
            "\n"
          ]
        }
      ]
    },
    {
      "cell_type": "code",
      "source": [
        "report(y_test,y_pred_test_knn)"
      ],
      "metadata": {
        "colab": {
          "base_uri": "https://localhost:8080/"
        },
        "id": "kE6gKG89eBl_",
        "outputId": "0c1ea33c-dad8-4f00-ba6c-e0923b19cd64"
      },
      "execution_count": 470,
      "outputs": [
        {
          "output_type": "stream",
          "name": "stdout",
          "text": [
            "Accuracy Score :  0.8484848484848485\n",
            "Confusion Matrix :  [[249  32]\n",
            " [ 58 255]]\n",
            "Classification Report :                precision    recall  f1-score   support\n",
            "\n",
            "           0       0.81      0.89      0.85       281\n",
            "           1       0.89      0.81      0.85       313\n",
            "\n",
            "    accuracy                           0.85       594\n",
            "   macro avg       0.85      0.85      0.85       594\n",
            "weighted avg       0.85      0.85      0.85       594\n",
            "\n"
          ]
        }
      ]
    },
    {
      "cell_type": "markdown",
      "source": [
        "# APPLYING SVC"
      ],
      "metadata": {
        "id": "GbUykf3MOpVL"
      }
    },
    {
      "cell_type": "markdown",
      "source": [
        "SVMs can be used for both regression and classification tasks.\n",
        "\n",
        "Support vectors are data points closer to the hyperplane and influence the position and orientation of the hyperplane, helping to maximize the margin of the classifier.\n"
      ],
      "metadata": {
        "id": "cEuXm9UjMvrX"
      }
    },
    {
      "cell_type": "code",
      "source": [
        "from sklearn.svm import SVC\n",
        "svc=SVC(C=100)\n",
        "svc.fit(x_train,y_train) #Training the model"
      ],
      "metadata": {
        "colab": {
          "base_uri": "https://localhost:8080/",
          "height": 74
        },
        "id": "200gTJsteFBP",
        "outputId": "b7dec986-dfc3-4e0a-fed7-9386f8e61477"
      },
      "execution_count": 471,
      "outputs": [
        {
          "output_type": "execute_result",
          "data": {
            "text/plain": [
              "SVC(C=100)"
            ],
            "text/html": [
              "<style>#sk-container-id-87 {color: black;background-color: white;}#sk-container-id-87 pre{padding: 0;}#sk-container-id-87 div.sk-toggleable {background-color: white;}#sk-container-id-87 label.sk-toggleable__label {cursor: pointer;display: block;width: 100%;margin-bottom: 0;padding: 0.3em;box-sizing: border-box;text-align: center;}#sk-container-id-87 label.sk-toggleable__label-arrow:before {content: \"▸\";float: left;margin-right: 0.25em;color: #696969;}#sk-container-id-87 label.sk-toggleable__label-arrow:hover:before {color: black;}#sk-container-id-87 div.sk-estimator:hover label.sk-toggleable__label-arrow:before {color: black;}#sk-container-id-87 div.sk-toggleable__content {max-height: 0;max-width: 0;overflow: hidden;text-align: left;background-color: #f0f8ff;}#sk-container-id-87 div.sk-toggleable__content pre {margin: 0.2em;color: black;border-radius: 0.25em;background-color: #f0f8ff;}#sk-container-id-87 input.sk-toggleable__control:checked~div.sk-toggleable__content {max-height: 200px;max-width: 100%;overflow: auto;}#sk-container-id-87 input.sk-toggleable__control:checked~label.sk-toggleable__label-arrow:before {content: \"▾\";}#sk-container-id-87 div.sk-estimator input.sk-toggleable__control:checked~label.sk-toggleable__label {background-color: #d4ebff;}#sk-container-id-87 div.sk-label input.sk-toggleable__control:checked~label.sk-toggleable__label {background-color: #d4ebff;}#sk-container-id-87 input.sk-hidden--visually {border: 0;clip: rect(1px 1px 1px 1px);clip: rect(1px, 1px, 1px, 1px);height: 1px;margin: -1px;overflow: hidden;padding: 0;position: absolute;width: 1px;}#sk-container-id-87 div.sk-estimator {font-family: monospace;background-color: #f0f8ff;border: 1px dotted black;border-radius: 0.25em;box-sizing: border-box;margin-bottom: 0.5em;}#sk-container-id-87 div.sk-estimator:hover {background-color: #d4ebff;}#sk-container-id-87 div.sk-parallel-item::after {content: \"\";width: 100%;border-bottom: 1px solid gray;flex-grow: 1;}#sk-container-id-87 div.sk-label:hover label.sk-toggleable__label {background-color: #d4ebff;}#sk-container-id-87 div.sk-serial::before {content: \"\";position: absolute;border-left: 1px solid gray;box-sizing: border-box;top: 0;bottom: 0;left: 50%;z-index: 0;}#sk-container-id-87 div.sk-serial {display: flex;flex-direction: column;align-items: center;background-color: white;padding-right: 0.2em;padding-left: 0.2em;position: relative;}#sk-container-id-87 div.sk-item {position: relative;z-index: 1;}#sk-container-id-87 div.sk-parallel {display: flex;align-items: stretch;justify-content: center;background-color: white;position: relative;}#sk-container-id-87 div.sk-item::before, #sk-container-id-87 div.sk-parallel-item::before {content: \"\";position: absolute;border-left: 1px solid gray;box-sizing: border-box;top: 0;bottom: 0;left: 50%;z-index: -1;}#sk-container-id-87 div.sk-parallel-item {display: flex;flex-direction: column;z-index: 1;position: relative;background-color: white;}#sk-container-id-87 div.sk-parallel-item:first-child::after {align-self: flex-end;width: 50%;}#sk-container-id-87 div.sk-parallel-item:last-child::after {align-self: flex-start;width: 50%;}#sk-container-id-87 div.sk-parallel-item:only-child::after {width: 0;}#sk-container-id-87 div.sk-dashed-wrapped {border: 1px dashed gray;margin: 0 0.4em 0.5em 0.4em;box-sizing: border-box;padding-bottom: 0.4em;background-color: white;}#sk-container-id-87 div.sk-label label {font-family: monospace;font-weight: bold;display: inline-block;line-height: 1.2em;}#sk-container-id-87 div.sk-label-container {text-align: center;}#sk-container-id-87 div.sk-container {/* jupyter's `normalize.less` sets `[hidden] { display: none; }` but bootstrap.min.css set `[hidden] { display: none !important; }` so we also need the `!important` here to be able to override the default hidden behavior on the sphinx rendered scikit-learn.org. See: https://github.com/scikit-learn/scikit-learn/issues/21755 */display: inline-block !important;position: relative;}#sk-container-id-87 div.sk-text-repr-fallback {display: none;}</style><div id=\"sk-container-id-87\" class=\"sk-top-container\"><div class=\"sk-text-repr-fallback\"><pre>SVC(C=100)</pre><b>In a Jupyter environment, please rerun this cell to show the HTML representation or trust the notebook. <br />On GitHub, the HTML representation is unable to render, please try loading this page with nbviewer.org.</b></div><div class=\"sk-container\" hidden><div class=\"sk-item\"><div class=\"sk-estimator sk-toggleable\"><input class=\"sk-toggleable__control sk-hidden--visually\" id=\"sk-estimator-id-87\" type=\"checkbox\" checked><label for=\"sk-estimator-id-87\" class=\"sk-toggleable__label sk-toggleable__label-arrow\">SVC</label><div class=\"sk-toggleable__content\"><pre>SVC(C=100)</pre></div></div></div></div></div>"
            ]
          },
          "metadata": {},
          "execution_count": 471
        }
      ]
    },
    {
      "cell_type": "code",
      "source": [
        "#Prediction\n",
        "\n",
        "y_pred_train_svc=svc.predict(x_train)\n",
        "y_pred_test_svc=svc.predict(x_test)"
      ],
      "metadata": {
        "id": "T-2YCWgyeTo0"
      },
      "execution_count": 472,
      "outputs": []
    },
    {
      "cell_type": "code",
      "source": [
        "#Displaying the result\n",
        "\n",
        "report(y_train,y_pred_train_svc)"
      ],
      "metadata": {
        "colab": {
          "base_uri": "https://localhost:8080/"
        },
        "id": "fwz6x44QelML",
        "outputId": "4e107065-a4cc-4b7b-e7ac-1f0022454756"
      },
      "execution_count": 473,
      "outputs": [
        {
          "output_type": "stream",
          "name": "stdout",
          "text": [
            "Accuracy Score :  0.8499156829679595\n",
            "Confusion Matrix :  [[ 959   87]\n",
            " [ 269 1057]]\n",
            "Classification Report :                precision    recall  f1-score   support\n",
            "\n",
            "           0       0.78      0.92      0.84      1046\n",
            "           1       0.92      0.80      0.86      1326\n",
            "\n",
            "    accuracy                           0.85      2372\n",
            "   macro avg       0.85      0.86      0.85      2372\n",
            "weighted avg       0.86      0.85      0.85      2372\n",
            "\n"
          ]
        }
      ]
    },
    {
      "cell_type": "code",
      "source": [
        "report(y_test,y_pred_test_svc)"
      ],
      "metadata": {
        "colab": {
          "base_uri": "https://localhost:8080/"
        },
        "id": "gHNtsLW4eorM",
        "outputId": "7e57af92-0514-493b-803b-6a5ef5481076"
      },
      "execution_count": 474,
      "outputs": [
        {
          "output_type": "stream",
          "name": "stdout",
          "text": [
            "Accuracy Score :  0.8585858585858586\n",
            "Confusion Matrix :  [[251  30]\n",
            " [ 54 259]]\n",
            "Classification Report :                precision    recall  f1-score   support\n",
            "\n",
            "           0       0.82      0.89      0.86       281\n",
            "           1       0.90      0.83      0.86       313\n",
            "\n",
            "    accuracy                           0.86       594\n",
            "   macro avg       0.86      0.86      0.86       594\n",
            "weighted avg       0.86      0.86      0.86       594\n",
            "\n"
          ]
        }
      ]
    },
    {
      "cell_type": "markdown",
      "source": [
        "# APPLYING NAIVE BAYES"
      ],
      "metadata": {
        "id": "GOQg2Tkqnk8T"
      }
    },
    {
      "cell_type": "markdown",
      "source": [
        "Naive Bayes classifiers are a collection of classification algorithms based on Bayes’ Theorem. \n",
        "\n",
        "It is not a single algorithm but a family of algorithms where all of them share a common principle, i.e. every pair of features being classified is independent of each other."
      ],
      "metadata": {
        "id": "_1ztY_uQNHIP"
      }
    },
    {
      "cell_type": "code",
      "source": [
        "from sklearn.naive_bayes import GaussianNB\n",
        "gnb=GaussianNB()\n",
        "gnb.fit(x_train,y_train) #Training the model"
      ],
      "metadata": {
        "colab": {
          "base_uri": "https://localhost:8080/",
          "height": 74
        },
        "id": "cj0U0W8xnoMs",
        "outputId": "3cc04600-3d86-44c9-d675-8df4f69eab4a"
      },
      "execution_count": 475,
      "outputs": [
        {
          "output_type": "execute_result",
          "data": {
            "text/plain": [
              "GaussianNB()"
            ],
            "text/html": [
              "<style>#sk-container-id-88 {color: black;background-color: white;}#sk-container-id-88 pre{padding: 0;}#sk-container-id-88 div.sk-toggleable {background-color: white;}#sk-container-id-88 label.sk-toggleable__label {cursor: pointer;display: block;width: 100%;margin-bottom: 0;padding: 0.3em;box-sizing: border-box;text-align: center;}#sk-container-id-88 label.sk-toggleable__label-arrow:before {content: \"▸\";float: left;margin-right: 0.25em;color: #696969;}#sk-container-id-88 label.sk-toggleable__label-arrow:hover:before {color: black;}#sk-container-id-88 div.sk-estimator:hover label.sk-toggleable__label-arrow:before {color: black;}#sk-container-id-88 div.sk-toggleable__content {max-height: 0;max-width: 0;overflow: hidden;text-align: left;background-color: #f0f8ff;}#sk-container-id-88 div.sk-toggleable__content pre {margin: 0.2em;color: black;border-radius: 0.25em;background-color: #f0f8ff;}#sk-container-id-88 input.sk-toggleable__control:checked~div.sk-toggleable__content {max-height: 200px;max-width: 100%;overflow: auto;}#sk-container-id-88 input.sk-toggleable__control:checked~label.sk-toggleable__label-arrow:before {content: \"▾\";}#sk-container-id-88 div.sk-estimator input.sk-toggleable__control:checked~label.sk-toggleable__label {background-color: #d4ebff;}#sk-container-id-88 div.sk-label input.sk-toggleable__control:checked~label.sk-toggleable__label {background-color: #d4ebff;}#sk-container-id-88 input.sk-hidden--visually {border: 0;clip: rect(1px 1px 1px 1px);clip: rect(1px, 1px, 1px, 1px);height: 1px;margin: -1px;overflow: hidden;padding: 0;position: absolute;width: 1px;}#sk-container-id-88 div.sk-estimator {font-family: monospace;background-color: #f0f8ff;border: 1px dotted black;border-radius: 0.25em;box-sizing: border-box;margin-bottom: 0.5em;}#sk-container-id-88 div.sk-estimator:hover {background-color: #d4ebff;}#sk-container-id-88 div.sk-parallel-item::after {content: \"\";width: 100%;border-bottom: 1px solid gray;flex-grow: 1;}#sk-container-id-88 div.sk-label:hover label.sk-toggleable__label {background-color: #d4ebff;}#sk-container-id-88 div.sk-serial::before {content: \"\";position: absolute;border-left: 1px solid gray;box-sizing: border-box;top: 0;bottom: 0;left: 50%;z-index: 0;}#sk-container-id-88 div.sk-serial {display: flex;flex-direction: column;align-items: center;background-color: white;padding-right: 0.2em;padding-left: 0.2em;position: relative;}#sk-container-id-88 div.sk-item {position: relative;z-index: 1;}#sk-container-id-88 div.sk-parallel {display: flex;align-items: stretch;justify-content: center;background-color: white;position: relative;}#sk-container-id-88 div.sk-item::before, #sk-container-id-88 div.sk-parallel-item::before {content: \"\";position: absolute;border-left: 1px solid gray;box-sizing: border-box;top: 0;bottom: 0;left: 50%;z-index: -1;}#sk-container-id-88 div.sk-parallel-item {display: flex;flex-direction: column;z-index: 1;position: relative;background-color: white;}#sk-container-id-88 div.sk-parallel-item:first-child::after {align-self: flex-end;width: 50%;}#sk-container-id-88 div.sk-parallel-item:last-child::after {align-self: flex-start;width: 50%;}#sk-container-id-88 div.sk-parallel-item:only-child::after {width: 0;}#sk-container-id-88 div.sk-dashed-wrapped {border: 1px dashed gray;margin: 0 0.4em 0.5em 0.4em;box-sizing: border-box;padding-bottom: 0.4em;background-color: white;}#sk-container-id-88 div.sk-label label {font-family: monospace;font-weight: bold;display: inline-block;line-height: 1.2em;}#sk-container-id-88 div.sk-label-container {text-align: center;}#sk-container-id-88 div.sk-container {/* jupyter's `normalize.less` sets `[hidden] { display: none; }` but bootstrap.min.css set `[hidden] { display: none !important; }` so we also need the `!important` here to be able to override the default hidden behavior on the sphinx rendered scikit-learn.org. See: https://github.com/scikit-learn/scikit-learn/issues/21755 */display: inline-block !important;position: relative;}#sk-container-id-88 div.sk-text-repr-fallback {display: none;}</style><div id=\"sk-container-id-88\" class=\"sk-top-container\"><div class=\"sk-text-repr-fallback\"><pre>GaussianNB()</pre><b>In a Jupyter environment, please rerun this cell to show the HTML representation or trust the notebook. <br />On GitHub, the HTML representation is unable to render, please try loading this page with nbviewer.org.</b></div><div class=\"sk-container\" hidden><div class=\"sk-item\"><div class=\"sk-estimator sk-toggleable\"><input class=\"sk-toggleable__control sk-hidden--visually\" id=\"sk-estimator-id-88\" type=\"checkbox\" checked><label for=\"sk-estimator-id-88\" class=\"sk-toggleable__label sk-toggleable__label-arrow\">GaussianNB</label><div class=\"sk-toggleable__content\"><pre>GaussianNB()</pre></div></div></div></div></div>"
            ]
          },
          "metadata": {},
          "execution_count": 475
        }
      ]
    },
    {
      "cell_type": "code",
      "source": [
        "#Prediction\n",
        "\n",
        "y_pred_train_gnb=gnb.predict(x_train)\n",
        "y_pred_test_gnb=gnb.predict(x_test)"
      ],
      "metadata": {
        "id": "BRpG_sNAoAox"
      },
      "execution_count": 476,
      "outputs": []
    },
    {
      "cell_type": "code",
      "source": [
        "#Displaying the result\n",
        "\n",
        "report(y_train,y_pred_train_gnb)"
      ],
      "metadata": {
        "colab": {
          "base_uri": "https://localhost:8080/"
        },
        "id": "UhCruSaCoKy3",
        "outputId": "e36a8ffe-7be2-4de3-f2c0-2e0adcb1b06f"
      },
      "execution_count": 477,
      "outputs": [
        {
          "output_type": "stream",
          "name": "stdout",
          "text": [
            "Accuracy Score :  0.8145025295109612\n",
            "Confusion Matrix :  [[ 894  152]\n",
            " [ 288 1038]]\n",
            "Classification Report :                precision    recall  f1-score   support\n",
            "\n",
            "           0       0.76      0.85      0.80      1046\n",
            "           1       0.87      0.78      0.83      1326\n",
            "\n",
            "    accuracy                           0.81      2372\n",
            "   macro avg       0.81      0.82      0.81      2372\n",
            "weighted avg       0.82      0.81      0.82      2372\n",
            "\n"
          ]
        }
      ]
    },
    {
      "cell_type": "code",
      "source": [
        "report(y_test,y_pred_test_gnb)"
      ],
      "metadata": {
        "colab": {
          "base_uri": "https://localhost:8080/"
        },
        "id": "sj0t5YddoQni",
        "outputId": "aa4a3065-ada0-4b1b-a878-3b474c8390cf"
      },
      "execution_count": 478,
      "outputs": [
        {
          "output_type": "stream",
          "name": "stdout",
          "text": [
            "Accuracy Score :  0.803030303030303\n",
            "Confusion Matrix :  [[228  53]\n",
            " [ 64 249]]\n",
            "Classification Report :                precision    recall  f1-score   support\n",
            "\n",
            "           0       0.78      0.81      0.80       281\n",
            "           1       0.82      0.80      0.81       313\n",
            "\n",
            "    accuracy                           0.80       594\n",
            "   macro avg       0.80      0.80      0.80       594\n",
            "weighted avg       0.80      0.80      0.80       594\n",
            "\n"
          ]
        }
      ]
    },
    {
      "cell_type": "markdown",
      "source": [
        "#APPLYING XGBOOST"
      ],
      "metadata": {
        "id": "YwTKyYNmHTvy"
      }
    },
    {
      "cell_type": "code",
      "source": [
        "import xgboost as xgb\n",
        "xgb_classifier=xgb.XGBClassifier(n_estimators=100,tree_method='hist')\n",
        "xgb_classifier.fit(x_train,y_train) #Training the model\n"
      ],
      "metadata": {
        "colab": {
          "base_uri": "https://localhost:8080/",
          "height": 248
        },
        "id": "uMjFpQqkD12T",
        "outputId": "9b60684e-d6c9-4f13-ff83-ff034f01a03e"
      },
      "execution_count": 479,
      "outputs": [
        {
          "output_type": "execute_result",
          "data": {
            "text/plain": [
              "XGBClassifier(base_score=None, booster=None, callbacks=None,\n",
              "              colsample_bylevel=None, colsample_bynode=None,\n",
              "              colsample_bytree=None, early_stopping_rounds=None,\n",
              "              enable_categorical=False, eval_metric=None, feature_types=None,\n",
              "              gamma=None, gpu_id=None, grow_policy=None, importance_type=None,\n",
              "              interaction_constraints=None, learning_rate=None, max_bin=None,\n",
              "              max_cat_threshold=None, max_cat_to_onehot=None,\n",
              "              max_delta_step=None, max_depth=None, max_leaves=None,\n",
              "              min_child_weight=None, missing=nan, monotone_constraints=None,\n",
              "              n_estimators=100, n_jobs=None, num_parallel_tree=None,\n",
              "              predictor=None, random_state=None, ...)"
            ],
            "text/html": [
              "<style>#sk-container-id-89 {color: black;background-color: white;}#sk-container-id-89 pre{padding: 0;}#sk-container-id-89 div.sk-toggleable {background-color: white;}#sk-container-id-89 label.sk-toggleable__label {cursor: pointer;display: block;width: 100%;margin-bottom: 0;padding: 0.3em;box-sizing: border-box;text-align: center;}#sk-container-id-89 label.sk-toggleable__label-arrow:before {content: \"▸\";float: left;margin-right: 0.25em;color: #696969;}#sk-container-id-89 label.sk-toggleable__label-arrow:hover:before {color: black;}#sk-container-id-89 div.sk-estimator:hover label.sk-toggleable__label-arrow:before {color: black;}#sk-container-id-89 div.sk-toggleable__content {max-height: 0;max-width: 0;overflow: hidden;text-align: left;background-color: #f0f8ff;}#sk-container-id-89 div.sk-toggleable__content pre {margin: 0.2em;color: black;border-radius: 0.25em;background-color: #f0f8ff;}#sk-container-id-89 input.sk-toggleable__control:checked~div.sk-toggleable__content {max-height: 200px;max-width: 100%;overflow: auto;}#sk-container-id-89 input.sk-toggleable__control:checked~label.sk-toggleable__label-arrow:before {content: \"▾\";}#sk-container-id-89 div.sk-estimator input.sk-toggleable__control:checked~label.sk-toggleable__label {background-color: #d4ebff;}#sk-container-id-89 div.sk-label input.sk-toggleable__control:checked~label.sk-toggleable__label {background-color: #d4ebff;}#sk-container-id-89 input.sk-hidden--visually {border: 0;clip: rect(1px 1px 1px 1px);clip: rect(1px, 1px, 1px, 1px);height: 1px;margin: -1px;overflow: hidden;padding: 0;position: absolute;width: 1px;}#sk-container-id-89 div.sk-estimator {font-family: monospace;background-color: #f0f8ff;border: 1px dotted black;border-radius: 0.25em;box-sizing: border-box;margin-bottom: 0.5em;}#sk-container-id-89 div.sk-estimator:hover {background-color: #d4ebff;}#sk-container-id-89 div.sk-parallel-item::after {content: \"\";width: 100%;border-bottom: 1px solid gray;flex-grow: 1;}#sk-container-id-89 div.sk-label:hover label.sk-toggleable__label {background-color: #d4ebff;}#sk-container-id-89 div.sk-serial::before {content: \"\";position: absolute;border-left: 1px solid gray;box-sizing: border-box;top: 0;bottom: 0;left: 50%;z-index: 0;}#sk-container-id-89 div.sk-serial {display: flex;flex-direction: column;align-items: center;background-color: white;padding-right: 0.2em;padding-left: 0.2em;position: relative;}#sk-container-id-89 div.sk-item {position: relative;z-index: 1;}#sk-container-id-89 div.sk-parallel {display: flex;align-items: stretch;justify-content: center;background-color: white;position: relative;}#sk-container-id-89 div.sk-item::before, #sk-container-id-89 div.sk-parallel-item::before {content: \"\";position: absolute;border-left: 1px solid gray;box-sizing: border-box;top: 0;bottom: 0;left: 50%;z-index: -1;}#sk-container-id-89 div.sk-parallel-item {display: flex;flex-direction: column;z-index: 1;position: relative;background-color: white;}#sk-container-id-89 div.sk-parallel-item:first-child::after {align-self: flex-end;width: 50%;}#sk-container-id-89 div.sk-parallel-item:last-child::after {align-self: flex-start;width: 50%;}#sk-container-id-89 div.sk-parallel-item:only-child::after {width: 0;}#sk-container-id-89 div.sk-dashed-wrapped {border: 1px dashed gray;margin: 0 0.4em 0.5em 0.4em;box-sizing: border-box;padding-bottom: 0.4em;background-color: white;}#sk-container-id-89 div.sk-label label {font-family: monospace;font-weight: bold;display: inline-block;line-height: 1.2em;}#sk-container-id-89 div.sk-label-container {text-align: center;}#sk-container-id-89 div.sk-container {/* jupyter's `normalize.less` sets `[hidden] { display: none; }` but bootstrap.min.css set `[hidden] { display: none !important; }` so we also need the `!important` here to be able to override the default hidden behavior on the sphinx rendered scikit-learn.org. See: https://github.com/scikit-learn/scikit-learn/issues/21755 */display: inline-block !important;position: relative;}#sk-container-id-89 div.sk-text-repr-fallback {display: none;}</style><div id=\"sk-container-id-89\" class=\"sk-top-container\"><div class=\"sk-text-repr-fallback\"><pre>XGBClassifier(base_score=None, booster=None, callbacks=None,\n",
              "              colsample_bylevel=None, colsample_bynode=None,\n",
              "              colsample_bytree=None, early_stopping_rounds=None,\n",
              "              enable_categorical=False, eval_metric=None, feature_types=None,\n",
              "              gamma=None, gpu_id=None, grow_policy=None, importance_type=None,\n",
              "              interaction_constraints=None, learning_rate=None, max_bin=None,\n",
              "              max_cat_threshold=None, max_cat_to_onehot=None,\n",
              "              max_delta_step=None, max_depth=None, max_leaves=None,\n",
              "              min_child_weight=None, missing=nan, monotone_constraints=None,\n",
              "              n_estimators=100, n_jobs=None, num_parallel_tree=None,\n",
              "              predictor=None, random_state=None, ...)</pre><b>In a Jupyter environment, please rerun this cell to show the HTML representation or trust the notebook. <br />On GitHub, the HTML representation is unable to render, please try loading this page with nbviewer.org.</b></div><div class=\"sk-container\" hidden><div class=\"sk-item\"><div class=\"sk-estimator sk-toggleable\"><input class=\"sk-toggleable__control sk-hidden--visually\" id=\"sk-estimator-id-89\" type=\"checkbox\" checked><label for=\"sk-estimator-id-89\" class=\"sk-toggleable__label sk-toggleable__label-arrow\">XGBClassifier</label><div class=\"sk-toggleable__content\"><pre>XGBClassifier(base_score=None, booster=None, callbacks=None,\n",
              "              colsample_bylevel=None, colsample_bynode=None,\n",
              "              colsample_bytree=None, early_stopping_rounds=None,\n",
              "              enable_categorical=False, eval_metric=None, feature_types=None,\n",
              "              gamma=None, gpu_id=None, grow_policy=None, importance_type=None,\n",
              "              interaction_constraints=None, learning_rate=None, max_bin=None,\n",
              "              max_cat_threshold=None, max_cat_to_onehot=None,\n",
              "              max_delta_step=None, max_depth=None, max_leaves=None,\n",
              "              min_child_weight=None, missing=nan, monotone_constraints=None,\n",
              "              n_estimators=100, n_jobs=None, num_parallel_tree=None,\n",
              "              predictor=None, random_state=None, ...)</pre></div></div></div></div></div>"
            ]
          },
          "metadata": {},
          "execution_count": 479
        }
      ]
    },
    {
      "cell_type": "code",
      "source": [
        "#Prediction\n",
        "\n",
        "y_pred_xgb_train=xgb_classifier.predict(x_train)\n",
        "y_pred_xgb_test=xgb_classifier.predict(x_test)"
      ],
      "metadata": {
        "id": "29LTQAeMHDdQ"
      },
      "execution_count": 480,
      "outputs": []
    },
    {
      "cell_type": "code",
      "source": [
        "#Displaying the result\n",
        "\n",
        "report(y_train,y_pred_xgb_train)"
      ],
      "metadata": {
        "colab": {
          "base_uri": "https://localhost:8080/"
        },
        "id": "-8GKrLc5JJU8",
        "outputId": "947d0886-d0cb-4d8a-8fa8-b71ef6cd473f"
      },
      "execution_count": 481,
      "outputs": [
        {
          "output_type": "stream",
          "name": "stdout",
          "text": [
            "Accuracy Score :  0.9144182124789207\n",
            "Confusion Matrix :  [[1012   34]\n",
            " [ 169 1157]]\n",
            "Classification Report :                precision    recall  f1-score   support\n",
            "\n",
            "           0       0.86      0.97      0.91      1046\n",
            "           1       0.97      0.87      0.92      1326\n",
            "\n",
            "    accuracy                           0.91      2372\n",
            "   macro avg       0.91      0.92      0.91      2372\n",
            "weighted avg       0.92      0.91      0.91      2372\n",
            "\n"
          ]
        }
      ]
    },
    {
      "cell_type": "code",
      "source": [
        "report(y_test,y_pred_xgb_test)"
      ],
      "metadata": {
        "colab": {
          "base_uri": "https://localhost:8080/"
        },
        "id": "2b3iPagIJSzD",
        "outputId": "3763b455-68f9-461d-e93d-5f4c63b64599"
      },
      "execution_count": 482,
      "outputs": [
        {
          "output_type": "stream",
          "name": "stdout",
          "text": [
            "Accuracy Score :  0.8754208754208754\n",
            "Confusion Matrix :  [[257  24]\n",
            " [ 50 263]]\n",
            "Classification Report :                precision    recall  f1-score   support\n",
            "\n",
            "           0       0.84      0.91      0.87       281\n",
            "           1       0.92      0.84      0.88       313\n",
            "\n",
            "    accuracy                           0.88       594\n",
            "   macro avg       0.88      0.88      0.88       594\n",
            "weighted avg       0.88      0.88      0.88       594\n",
            "\n"
          ]
        }
      ]
    },
    {
      "cell_type": "markdown",
      "source": [
        "# APPLYING ADABOOST"
      ],
      "metadata": {
        "id": "FVVCEZtJvMvD"
      }
    },
    {
      "cell_type": "code",
      "source": [
        "from sklearn.ensemble import AdaBoostClassifier\n",
        "ada=AdaBoostClassifier(n_estimators=100,learning_rate=1) #Training the model\n",
        "ada.fit(x_train,y_train)"
      ],
      "metadata": {
        "colab": {
          "base_uri": "https://localhost:8080/",
          "height": 74
        },
        "id": "Tv3NPWBnvSAD",
        "outputId": "41ddea74-dd85-4dc1-c90b-c3314a7a8c45"
      },
      "execution_count": 483,
      "outputs": [
        {
          "output_type": "execute_result",
          "data": {
            "text/plain": [
              "AdaBoostClassifier(learning_rate=1, n_estimators=100)"
            ],
            "text/html": [
              "<style>#sk-container-id-90 {color: black;background-color: white;}#sk-container-id-90 pre{padding: 0;}#sk-container-id-90 div.sk-toggleable {background-color: white;}#sk-container-id-90 label.sk-toggleable__label {cursor: pointer;display: block;width: 100%;margin-bottom: 0;padding: 0.3em;box-sizing: border-box;text-align: center;}#sk-container-id-90 label.sk-toggleable__label-arrow:before {content: \"▸\";float: left;margin-right: 0.25em;color: #696969;}#sk-container-id-90 label.sk-toggleable__label-arrow:hover:before {color: black;}#sk-container-id-90 div.sk-estimator:hover label.sk-toggleable__label-arrow:before {color: black;}#sk-container-id-90 div.sk-toggleable__content {max-height: 0;max-width: 0;overflow: hidden;text-align: left;background-color: #f0f8ff;}#sk-container-id-90 div.sk-toggleable__content pre {margin: 0.2em;color: black;border-radius: 0.25em;background-color: #f0f8ff;}#sk-container-id-90 input.sk-toggleable__control:checked~div.sk-toggleable__content {max-height: 200px;max-width: 100%;overflow: auto;}#sk-container-id-90 input.sk-toggleable__control:checked~label.sk-toggleable__label-arrow:before {content: \"▾\";}#sk-container-id-90 div.sk-estimator input.sk-toggleable__control:checked~label.sk-toggleable__label {background-color: #d4ebff;}#sk-container-id-90 div.sk-label input.sk-toggleable__control:checked~label.sk-toggleable__label {background-color: #d4ebff;}#sk-container-id-90 input.sk-hidden--visually {border: 0;clip: rect(1px 1px 1px 1px);clip: rect(1px, 1px, 1px, 1px);height: 1px;margin: -1px;overflow: hidden;padding: 0;position: absolute;width: 1px;}#sk-container-id-90 div.sk-estimator {font-family: monospace;background-color: #f0f8ff;border: 1px dotted black;border-radius: 0.25em;box-sizing: border-box;margin-bottom: 0.5em;}#sk-container-id-90 div.sk-estimator:hover {background-color: #d4ebff;}#sk-container-id-90 div.sk-parallel-item::after {content: \"\";width: 100%;border-bottom: 1px solid gray;flex-grow: 1;}#sk-container-id-90 div.sk-label:hover label.sk-toggleable__label {background-color: #d4ebff;}#sk-container-id-90 div.sk-serial::before {content: \"\";position: absolute;border-left: 1px solid gray;box-sizing: border-box;top: 0;bottom: 0;left: 50%;z-index: 0;}#sk-container-id-90 div.sk-serial {display: flex;flex-direction: column;align-items: center;background-color: white;padding-right: 0.2em;padding-left: 0.2em;position: relative;}#sk-container-id-90 div.sk-item {position: relative;z-index: 1;}#sk-container-id-90 div.sk-parallel {display: flex;align-items: stretch;justify-content: center;background-color: white;position: relative;}#sk-container-id-90 div.sk-item::before, #sk-container-id-90 div.sk-parallel-item::before {content: \"\";position: absolute;border-left: 1px solid gray;box-sizing: border-box;top: 0;bottom: 0;left: 50%;z-index: -1;}#sk-container-id-90 div.sk-parallel-item {display: flex;flex-direction: column;z-index: 1;position: relative;background-color: white;}#sk-container-id-90 div.sk-parallel-item:first-child::after {align-self: flex-end;width: 50%;}#sk-container-id-90 div.sk-parallel-item:last-child::after {align-self: flex-start;width: 50%;}#sk-container-id-90 div.sk-parallel-item:only-child::after {width: 0;}#sk-container-id-90 div.sk-dashed-wrapped {border: 1px dashed gray;margin: 0 0.4em 0.5em 0.4em;box-sizing: border-box;padding-bottom: 0.4em;background-color: white;}#sk-container-id-90 div.sk-label label {font-family: monospace;font-weight: bold;display: inline-block;line-height: 1.2em;}#sk-container-id-90 div.sk-label-container {text-align: center;}#sk-container-id-90 div.sk-container {/* jupyter's `normalize.less` sets `[hidden] { display: none; }` but bootstrap.min.css set `[hidden] { display: none !important; }` so we also need the `!important` here to be able to override the default hidden behavior on the sphinx rendered scikit-learn.org. See: https://github.com/scikit-learn/scikit-learn/issues/21755 */display: inline-block !important;position: relative;}#sk-container-id-90 div.sk-text-repr-fallback {display: none;}</style><div id=\"sk-container-id-90\" class=\"sk-top-container\"><div class=\"sk-text-repr-fallback\"><pre>AdaBoostClassifier(learning_rate=1, n_estimators=100)</pre><b>In a Jupyter environment, please rerun this cell to show the HTML representation or trust the notebook. <br />On GitHub, the HTML representation is unable to render, please try loading this page with nbviewer.org.</b></div><div class=\"sk-container\" hidden><div class=\"sk-item\"><div class=\"sk-estimator sk-toggleable\"><input class=\"sk-toggleable__control sk-hidden--visually\" id=\"sk-estimator-id-90\" type=\"checkbox\" checked><label for=\"sk-estimator-id-90\" class=\"sk-toggleable__label sk-toggleable__label-arrow\">AdaBoostClassifier</label><div class=\"sk-toggleable__content\"><pre>AdaBoostClassifier(learning_rate=1, n_estimators=100)</pre></div></div></div></div></div>"
            ]
          },
          "metadata": {},
          "execution_count": 483
        }
      ]
    },
    {
      "cell_type": "code",
      "source": [
        "#Prediction\n",
        "\n",
        "y_pred_ada_train=ada.predict(x_train)\n",
        "y_pred_ada_test=ada.predict(x_test)"
      ],
      "metadata": {
        "id": "N5SowJOovfze"
      },
      "execution_count": 484,
      "outputs": []
    },
    {
      "cell_type": "code",
      "source": [
        "#Displaying the result\n",
        "\n",
        "report(y_train,y_pred_ada_train)"
      ],
      "metadata": {
        "colab": {
          "base_uri": "https://localhost:8080/"
        },
        "id": "WpUpMv5TvrR7",
        "outputId": "7aa00087-ea05-4dbf-95ca-ea5c2fe2b3be"
      },
      "execution_count": 485,
      "outputs": [
        {
          "output_type": "stream",
          "name": "stdout",
          "text": [
            "Accuracy Score :  0.8705733558178752\n",
            "Confusion Matrix :  [[ 981   65]\n",
            " [ 242 1084]]\n",
            "Classification Report :                precision    recall  f1-score   support\n",
            "\n",
            "           0       0.80      0.94      0.86      1046\n",
            "           1       0.94      0.82      0.88      1326\n",
            "\n",
            "    accuracy                           0.87      2372\n",
            "   macro avg       0.87      0.88      0.87      2372\n",
            "weighted avg       0.88      0.87      0.87      2372\n",
            "\n"
          ]
        }
      ]
    },
    {
      "cell_type": "code",
      "source": [
        "report(y_test,y_pred_ada_test)"
      ],
      "metadata": {
        "colab": {
          "base_uri": "https://localhost:8080/"
        },
        "id": "kiy2FcU1vvsT",
        "outputId": "2fed0895-950a-4448-9736-e130d31df73c"
      },
      "execution_count": 486,
      "outputs": [
        {
          "output_type": "stream",
          "name": "stdout",
          "text": [
            "Accuracy Score :  0.8787878787878788\n",
            "Confusion Matrix :  [[259  22]\n",
            " [ 50 263]]\n",
            "Classification Report :                precision    recall  f1-score   support\n",
            "\n",
            "           0       0.84      0.92      0.88       281\n",
            "           1       0.92      0.84      0.88       313\n",
            "\n",
            "    accuracy                           0.88       594\n",
            "   macro avg       0.88      0.88      0.88       594\n",
            "weighted avg       0.88      0.88      0.88       594\n",
            "\n"
          ]
        }
      ]
    },
    {
      "cell_type": "markdown",
      "source": [
        "#SMOTE\n",
        "\n",
        "SMOTE stands for Synthetic Minority Oversampling Technique.\n",
        "\n",
        "Imbalanced data is data in which observed frequencies are very different across the different possible values of a categorical variable. Basically, there are many observations of some type and very few of another type.\n",
        "\n",
        "SMOTE is a solution when you have imbalanced data."
      ],
      "metadata": {
        "id": "POViToM3frQM"
      }
    },
    {
      "cell_type": "code",
      "source": [
        "from imblearn.over_sampling import SMOTE\n",
        "smp=SMOTE()"
      ],
      "metadata": {
        "id": "4AYFXBZtcbZa"
      },
      "execution_count": 487,
      "outputs": []
    },
    {
      "cell_type": "code",
      "source": [
        "x_smote,y_smote=smp.fit_resample(x,y)"
      ],
      "metadata": {
        "id": "1x2zOP6FeP_4"
      },
      "execution_count": 488,
      "outputs": []
    },
    {
      "cell_type": "code",
      "source": [
        "x_sm_train,x_sm_test,y_sm_train,y_sm_test=train_test_split(x_smote,y_smote,test_size=0.2,random_state=2)"
      ],
      "metadata": {
        "id": "exEKInXDeQpt"
      },
      "execution_count": 489,
      "outputs": []
    },
    {
      "cell_type": "markdown",
      "source": [
        "# AFTER SMOTE"
      ],
      "metadata": {
        "id": "btRusY24fx9c"
      }
    },
    {
      "cell_type": "markdown",
      "source": [
        "LOGISTIC REGRESSION\n"
      ],
      "metadata": {
        "id": "_rV5xqm2f1Q5"
      }
    },
    {
      "cell_type": "code",
      "source": [
        "lr.fit(x_sm_train,y_sm_train) #Training the model"
      ],
      "metadata": {
        "colab": {
          "base_uri": "https://localhost:8080/",
          "height": 74
        },
        "id": "ipQDXu-Vf3-Z",
        "outputId": "f0dd70b0-5bb7-4356-e622-106df20fa6cc"
      },
      "execution_count": 490,
      "outputs": [
        {
          "output_type": "execute_result",
          "data": {
            "text/plain": [
              "LogisticRegression()"
            ],
            "text/html": [
              "<style>#sk-container-id-91 {color: black;background-color: white;}#sk-container-id-91 pre{padding: 0;}#sk-container-id-91 div.sk-toggleable {background-color: white;}#sk-container-id-91 label.sk-toggleable__label {cursor: pointer;display: block;width: 100%;margin-bottom: 0;padding: 0.3em;box-sizing: border-box;text-align: center;}#sk-container-id-91 label.sk-toggleable__label-arrow:before {content: \"▸\";float: left;margin-right: 0.25em;color: #696969;}#sk-container-id-91 label.sk-toggleable__label-arrow:hover:before {color: black;}#sk-container-id-91 div.sk-estimator:hover label.sk-toggleable__label-arrow:before {color: black;}#sk-container-id-91 div.sk-toggleable__content {max-height: 0;max-width: 0;overflow: hidden;text-align: left;background-color: #f0f8ff;}#sk-container-id-91 div.sk-toggleable__content pre {margin: 0.2em;color: black;border-radius: 0.25em;background-color: #f0f8ff;}#sk-container-id-91 input.sk-toggleable__control:checked~div.sk-toggleable__content {max-height: 200px;max-width: 100%;overflow: auto;}#sk-container-id-91 input.sk-toggleable__control:checked~label.sk-toggleable__label-arrow:before {content: \"▾\";}#sk-container-id-91 div.sk-estimator input.sk-toggleable__control:checked~label.sk-toggleable__label {background-color: #d4ebff;}#sk-container-id-91 div.sk-label input.sk-toggleable__control:checked~label.sk-toggleable__label {background-color: #d4ebff;}#sk-container-id-91 input.sk-hidden--visually {border: 0;clip: rect(1px 1px 1px 1px);clip: rect(1px, 1px, 1px, 1px);height: 1px;margin: -1px;overflow: hidden;padding: 0;position: absolute;width: 1px;}#sk-container-id-91 div.sk-estimator {font-family: monospace;background-color: #f0f8ff;border: 1px dotted black;border-radius: 0.25em;box-sizing: border-box;margin-bottom: 0.5em;}#sk-container-id-91 div.sk-estimator:hover {background-color: #d4ebff;}#sk-container-id-91 div.sk-parallel-item::after {content: \"\";width: 100%;border-bottom: 1px solid gray;flex-grow: 1;}#sk-container-id-91 div.sk-label:hover label.sk-toggleable__label {background-color: #d4ebff;}#sk-container-id-91 div.sk-serial::before {content: \"\";position: absolute;border-left: 1px solid gray;box-sizing: border-box;top: 0;bottom: 0;left: 50%;z-index: 0;}#sk-container-id-91 div.sk-serial {display: flex;flex-direction: column;align-items: center;background-color: white;padding-right: 0.2em;padding-left: 0.2em;position: relative;}#sk-container-id-91 div.sk-item {position: relative;z-index: 1;}#sk-container-id-91 div.sk-parallel {display: flex;align-items: stretch;justify-content: center;background-color: white;position: relative;}#sk-container-id-91 div.sk-item::before, #sk-container-id-91 div.sk-parallel-item::before {content: \"\";position: absolute;border-left: 1px solid gray;box-sizing: border-box;top: 0;bottom: 0;left: 50%;z-index: -1;}#sk-container-id-91 div.sk-parallel-item {display: flex;flex-direction: column;z-index: 1;position: relative;background-color: white;}#sk-container-id-91 div.sk-parallel-item:first-child::after {align-self: flex-end;width: 50%;}#sk-container-id-91 div.sk-parallel-item:last-child::after {align-self: flex-start;width: 50%;}#sk-container-id-91 div.sk-parallel-item:only-child::after {width: 0;}#sk-container-id-91 div.sk-dashed-wrapped {border: 1px dashed gray;margin: 0 0.4em 0.5em 0.4em;box-sizing: border-box;padding-bottom: 0.4em;background-color: white;}#sk-container-id-91 div.sk-label label {font-family: monospace;font-weight: bold;display: inline-block;line-height: 1.2em;}#sk-container-id-91 div.sk-label-container {text-align: center;}#sk-container-id-91 div.sk-container {/* jupyter's `normalize.less` sets `[hidden] { display: none; }` but bootstrap.min.css set `[hidden] { display: none !important; }` so we also need the `!important` here to be able to override the default hidden behavior on the sphinx rendered scikit-learn.org. See: https://github.com/scikit-learn/scikit-learn/issues/21755 */display: inline-block !important;position: relative;}#sk-container-id-91 div.sk-text-repr-fallback {display: none;}</style><div id=\"sk-container-id-91\" class=\"sk-top-container\"><div class=\"sk-text-repr-fallback\"><pre>LogisticRegression()</pre><b>In a Jupyter environment, please rerun this cell to show the HTML representation or trust the notebook. <br />On GitHub, the HTML representation is unable to render, please try loading this page with nbviewer.org.</b></div><div class=\"sk-container\" hidden><div class=\"sk-item\"><div class=\"sk-estimator sk-toggleable\"><input class=\"sk-toggleable__control sk-hidden--visually\" id=\"sk-estimator-id-91\" type=\"checkbox\" checked><label for=\"sk-estimator-id-91\" class=\"sk-toggleable__label sk-toggleable__label-arrow\">LogisticRegression</label><div class=\"sk-toggleable__content\"><pre>LogisticRegression()</pre></div></div></div></div></div>"
            ]
          },
          "metadata": {},
          "execution_count": 490
        }
      ]
    },
    {
      "cell_type": "code",
      "source": [
        "#Prediction\n",
        "\n",
        "y_pred_lr_train_sm=lr.predict(x_sm_train)\n",
        "y_pred_lr_test_sm=lr.predict(x_sm_test)"
      ],
      "metadata": {
        "id": "sIAhAS1Df9dD"
      },
      "execution_count": 491,
      "outputs": []
    },
    {
      "cell_type": "code",
      "source": [
        "#Displaying the result\n",
        "\n",
        "report(y_sm_train,y_pred_lr_train_sm)\n",
        "report(y_sm_test,y_pred_lr_test_sm)"
      ],
      "metadata": {
        "colab": {
          "base_uri": "https://localhost:8080/"
        },
        "id": "ib1w3XgegFau",
        "outputId": "80c37426-c187-4d81-bc03-ba9d84ce75e6"
      },
      "execution_count": 492,
      "outputs": [
        {
          "output_type": "stream",
          "name": "stdout",
          "text": [
            "Accuracy Score :  0.7734553775743707\n",
            "Confusion Matrix :  [[1012  294]\n",
            " [ 300 1016]]\n",
            "Classification Report :                precision    recall  f1-score   support\n",
            "\n",
            "           0       0.77      0.77      0.77      1306\n",
            "           1       0.78      0.77      0.77      1316\n",
            "\n",
            "    accuracy                           0.77      2622\n",
            "   macro avg       0.77      0.77      0.77      2622\n",
            "weighted avg       0.77      0.77      0.77      2622\n",
            "\n",
            "Accuracy Score :  0.7759146341463414\n",
            "Confusion Matrix :  [[256  77]\n",
            " [ 70 253]]\n",
            "Classification Report :                precision    recall  f1-score   support\n",
            "\n",
            "           0       0.79      0.77      0.78       333\n",
            "           1       0.77      0.78      0.77       323\n",
            "\n",
            "    accuracy                           0.78       656\n",
            "   macro avg       0.78      0.78      0.78       656\n",
            "weighted avg       0.78      0.78      0.78       656\n",
            "\n"
          ]
        }
      ]
    },
    {
      "cell_type": "markdown",
      "source": [
        "DECISION TREE"
      ],
      "metadata": {
        "id": "kGFuQYJJgMB6"
      }
    },
    {
      "cell_type": "code",
      "source": [
        "dtc.fit(x_sm_train,y_sm_train) #Training the model"
      ],
      "metadata": {
        "colab": {
          "base_uri": "https://localhost:8080/",
          "height": 74
        },
        "id": "9M7Xe2tdgO35",
        "outputId": "8e598f9b-d61d-4af0-c5c0-993bf3f8fec0"
      },
      "execution_count": 493,
      "outputs": [
        {
          "output_type": "execute_result",
          "data": {
            "text/plain": [
              "DecisionTreeClassifier(max_depth=25, min_samples_split=18)"
            ],
            "text/html": [
              "<style>#sk-container-id-92 {color: black;background-color: white;}#sk-container-id-92 pre{padding: 0;}#sk-container-id-92 div.sk-toggleable {background-color: white;}#sk-container-id-92 label.sk-toggleable__label {cursor: pointer;display: block;width: 100%;margin-bottom: 0;padding: 0.3em;box-sizing: border-box;text-align: center;}#sk-container-id-92 label.sk-toggleable__label-arrow:before {content: \"▸\";float: left;margin-right: 0.25em;color: #696969;}#sk-container-id-92 label.sk-toggleable__label-arrow:hover:before {color: black;}#sk-container-id-92 div.sk-estimator:hover label.sk-toggleable__label-arrow:before {color: black;}#sk-container-id-92 div.sk-toggleable__content {max-height: 0;max-width: 0;overflow: hidden;text-align: left;background-color: #f0f8ff;}#sk-container-id-92 div.sk-toggleable__content pre {margin: 0.2em;color: black;border-radius: 0.25em;background-color: #f0f8ff;}#sk-container-id-92 input.sk-toggleable__control:checked~div.sk-toggleable__content {max-height: 200px;max-width: 100%;overflow: auto;}#sk-container-id-92 input.sk-toggleable__control:checked~label.sk-toggleable__label-arrow:before {content: \"▾\";}#sk-container-id-92 div.sk-estimator input.sk-toggleable__control:checked~label.sk-toggleable__label {background-color: #d4ebff;}#sk-container-id-92 div.sk-label input.sk-toggleable__control:checked~label.sk-toggleable__label {background-color: #d4ebff;}#sk-container-id-92 input.sk-hidden--visually {border: 0;clip: rect(1px 1px 1px 1px);clip: rect(1px, 1px, 1px, 1px);height: 1px;margin: -1px;overflow: hidden;padding: 0;position: absolute;width: 1px;}#sk-container-id-92 div.sk-estimator {font-family: monospace;background-color: #f0f8ff;border: 1px dotted black;border-radius: 0.25em;box-sizing: border-box;margin-bottom: 0.5em;}#sk-container-id-92 div.sk-estimator:hover {background-color: #d4ebff;}#sk-container-id-92 div.sk-parallel-item::after {content: \"\";width: 100%;border-bottom: 1px solid gray;flex-grow: 1;}#sk-container-id-92 div.sk-label:hover label.sk-toggleable__label {background-color: #d4ebff;}#sk-container-id-92 div.sk-serial::before {content: \"\";position: absolute;border-left: 1px solid gray;box-sizing: border-box;top: 0;bottom: 0;left: 50%;z-index: 0;}#sk-container-id-92 div.sk-serial {display: flex;flex-direction: column;align-items: center;background-color: white;padding-right: 0.2em;padding-left: 0.2em;position: relative;}#sk-container-id-92 div.sk-item {position: relative;z-index: 1;}#sk-container-id-92 div.sk-parallel {display: flex;align-items: stretch;justify-content: center;background-color: white;position: relative;}#sk-container-id-92 div.sk-item::before, #sk-container-id-92 div.sk-parallel-item::before {content: \"\";position: absolute;border-left: 1px solid gray;box-sizing: border-box;top: 0;bottom: 0;left: 50%;z-index: -1;}#sk-container-id-92 div.sk-parallel-item {display: flex;flex-direction: column;z-index: 1;position: relative;background-color: white;}#sk-container-id-92 div.sk-parallel-item:first-child::after {align-self: flex-end;width: 50%;}#sk-container-id-92 div.sk-parallel-item:last-child::after {align-self: flex-start;width: 50%;}#sk-container-id-92 div.sk-parallel-item:only-child::after {width: 0;}#sk-container-id-92 div.sk-dashed-wrapped {border: 1px dashed gray;margin: 0 0.4em 0.5em 0.4em;box-sizing: border-box;padding-bottom: 0.4em;background-color: white;}#sk-container-id-92 div.sk-label label {font-family: monospace;font-weight: bold;display: inline-block;line-height: 1.2em;}#sk-container-id-92 div.sk-label-container {text-align: center;}#sk-container-id-92 div.sk-container {/* jupyter's `normalize.less` sets `[hidden] { display: none; }` but bootstrap.min.css set `[hidden] { display: none !important; }` so we also need the `!important` here to be able to override the default hidden behavior on the sphinx rendered scikit-learn.org. See: https://github.com/scikit-learn/scikit-learn/issues/21755 */display: inline-block !important;position: relative;}#sk-container-id-92 div.sk-text-repr-fallback {display: none;}</style><div id=\"sk-container-id-92\" class=\"sk-top-container\"><div class=\"sk-text-repr-fallback\"><pre>DecisionTreeClassifier(max_depth=25, min_samples_split=18)</pre><b>In a Jupyter environment, please rerun this cell to show the HTML representation or trust the notebook. <br />On GitHub, the HTML representation is unable to render, please try loading this page with nbviewer.org.</b></div><div class=\"sk-container\" hidden><div class=\"sk-item\"><div class=\"sk-estimator sk-toggleable\"><input class=\"sk-toggleable__control sk-hidden--visually\" id=\"sk-estimator-id-92\" type=\"checkbox\" checked><label for=\"sk-estimator-id-92\" class=\"sk-toggleable__label sk-toggleable__label-arrow\">DecisionTreeClassifier</label><div class=\"sk-toggleable__content\"><pre>DecisionTreeClassifier(max_depth=25, min_samples_split=18)</pre></div></div></div></div></div>"
            ]
          },
          "metadata": {},
          "execution_count": 493
        }
      ]
    },
    {
      "cell_type": "code",
      "source": [
        "#Prediction\n",
        "\n",
        "y_pred_dtc_train_sm=dtc.predict(x_sm_train)\n",
        "y_pred_dtc_test_sm=dtc.predict(x_sm_test)"
      ],
      "metadata": {
        "id": "w4o9lu4dgUvQ"
      },
      "execution_count": 494,
      "outputs": []
    },
    {
      "cell_type": "code",
      "source": [
        "#Displaying the result\n",
        "\n",
        "report(y_sm_train,y_pred_dtc_train_sm)\n",
        "report(y_sm_test,y_pred_dtc_test_sm)"
      ],
      "metadata": {
        "colab": {
          "base_uri": "https://localhost:8080/"
        },
        "id": "uM8VzjKWgbjA",
        "outputId": "e65861a6-7e18-4108-a065-f8f2e47d1b0e"
      },
      "execution_count": 495,
      "outputs": [
        {
          "output_type": "stream",
          "name": "stdout",
          "text": [
            "Accuracy Score :  0.9092295957284515\n",
            "Confusion Matrix :  [[1267   39]\n",
            " [ 199 1117]]\n",
            "Classification Report :                precision    recall  f1-score   support\n",
            "\n",
            "           0       0.86      0.97      0.91      1306\n",
            "           1       0.97      0.85      0.90      1316\n",
            "\n",
            "    accuracy                           0.91      2622\n",
            "   macro avg       0.92      0.91      0.91      2622\n",
            "weighted avg       0.92      0.91      0.91      2622\n",
            "\n",
            "Accuracy Score :  0.9054878048780488\n",
            "Confusion Matrix :  [[323  10]\n",
            " [ 52 271]]\n",
            "Classification Report :                precision    recall  f1-score   support\n",
            "\n",
            "           0       0.86      0.97      0.91       333\n",
            "           1       0.96      0.84      0.90       323\n",
            "\n",
            "    accuracy                           0.91       656\n",
            "   macro avg       0.91      0.90      0.90       656\n",
            "weighted avg       0.91      0.91      0.91       656\n",
            "\n"
          ]
        }
      ]
    },
    {
      "cell_type": "markdown",
      "source": [
        "KNN"
      ],
      "metadata": {
        "id": "SzeR_n29gnyD"
      }
    },
    {
      "cell_type": "code",
      "source": [
        "knn.fit(x_sm_train,y_sm_train) #Training the model"
      ],
      "metadata": {
        "colab": {
          "base_uri": "https://localhost:8080/",
          "height": 74
        },
        "id": "EMzNO9T5eTBK",
        "outputId": "69e339ca-72ca-4ce1-f885-eb1b46c56d3d"
      },
      "execution_count": 496,
      "outputs": [
        {
          "output_type": "execute_result",
          "data": {
            "text/plain": [
              "KNeighborsClassifier(n_neighbors=55)"
            ],
            "text/html": [
              "<style>#sk-container-id-93 {color: black;background-color: white;}#sk-container-id-93 pre{padding: 0;}#sk-container-id-93 div.sk-toggleable {background-color: white;}#sk-container-id-93 label.sk-toggleable__label {cursor: pointer;display: block;width: 100%;margin-bottom: 0;padding: 0.3em;box-sizing: border-box;text-align: center;}#sk-container-id-93 label.sk-toggleable__label-arrow:before {content: \"▸\";float: left;margin-right: 0.25em;color: #696969;}#sk-container-id-93 label.sk-toggleable__label-arrow:hover:before {color: black;}#sk-container-id-93 div.sk-estimator:hover label.sk-toggleable__label-arrow:before {color: black;}#sk-container-id-93 div.sk-toggleable__content {max-height: 0;max-width: 0;overflow: hidden;text-align: left;background-color: #f0f8ff;}#sk-container-id-93 div.sk-toggleable__content pre {margin: 0.2em;color: black;border-radius: 0.25em;background-color: #f0f8ff;}#sk-container-id-93 input.sk-toggleable__control:checked~div.sk-toggleable__content {max-height: 200px;max-width: 100%;overflow: auto;}#sk-container-id-93 input.sk-toggleable__control:checked~label.sk-toggleable__label-arrow:before {content: \"▾\";}#sk-container-id-93 div.sk-estimator input.sk-toggleable__control:checked~label.sk-toggleable__label {background-color: #d4ebff;}#sk-container-id-93 div.sk-label input.sk-toggleable__control:checked~label.sk-toggleable__label {background-color: #d4ebff;}#sk-container-id-93 input.sk-hidden--visually {border: 0;clip: rect(1px 1px 1px 1px);clip: rect(1px, 1px, 1px, 1px);height: 1px;margin: -1px;overflow: hidden;padding: 0;position: absolute;width: 1px;}#sk-container-id-93 div.sk-estimator {font-family: monospace;background-color: #f0f8ff;border: 1px dotted black;border-radius: 0.25em;box-sizing: border-box;margin-bottom: 0.5em;}#sk-container-id-93 div.sk-estimator:hover {background-color: #d4ebff;}#sk-container-id-93 div.sk-parallel-item::after {content: \"\";width: 100%;border-bottom: 1px solid gray;flex-grow: 1;}#sk-container-id-93 div.sk-label:hover label.sk-toggleable__label {background-color: #d4ebff;}#sk-container-id-93 div.sk-serial::before {content: \"\";position: absolute;border-left: 1px solid gray;box-sizing: border-box;top: 0;bottom: 0;left: 50%;z-index: 0;}#sk-container-id-93 div.sk-serial {display: flex;flex-direction: column;align-items: center;background-color: white;padding-right: 0.2em;padding-left: 0.2em;position: relative;}#sk-container-id-93 div.sk-item {position: relative;z-index: 1;}#sk-container-id-93 div.sk-parallel {display: flex;align-items: stretch;justify-content: center;background-color: white;position: relative;}#sk-container-id-93 div.sk-item::before, #sk-container-id-93 div.sk-parallel-item::before {content: \"\";position: absolute;border-left: 1px solid gray;box-sizing: border-box;top: 0;bottom: 0;left: 50%;z-index: -1;}#sk-container-id-93 div.sk-parallel-item {display: flex;flex-direction: column;z-index: 1;position: relative;background-color: white;}#sk-container-id-93 div.sk-parallel-item:first-child::after {align-self: flex-end;width: 50%;}#sk-container-id-93 div.sk-parallel-item:last-child::after {align-self: flex-start;width: 50%;}#sk-container-id-93 div.sk-parallel-item:only-child::after {width: 0;}#sk-container-id-93 div.sk-dashed-wrapped {border: 1px dashed gray;margin: 0 0.4em 0.5em 0.4em;box-sizing: border-box;padding-bottom: 0.4em;background-color: white;}#sk-container-id-93 div.sk-label label {font-family: monospace;font-weight: bold;display: inline-block;line-height: 1.2em;}#sk-container-id-93 div.sk-label-container {text-align: center;}#sk-container-id-93 div.sk-container {/* jupyter's `normalize.less` sets `[hidden] { display: none; }` but bootstrap.min.css set `[hidden] { display: none !important; }` so we also need the `!important` here to be able to override the default hidden behavior on the sphinx rendered scikit-learn.org. See: https://github.com/scikit-learn/scikit-learn/issues/21755 */display: inline-block !important;position: relative;}#sk-container-id-93 div.sk-text-repr-fallback {display: none;}</style><div id=\"sk-container-id-93\" class=\"sk-top-container\"><div class=\"sk-text-repr-fallback\"><pre>KNeighborsClassifier(n_neighbors=55)</pre><b>In a Jupyter environment, please rerun this cell to show the HTML representation or trust the notebook. <br />On GitHub, the HTML representation is unable to render, please try loading this page with nbviewer.org.</b></div><div class=\"sk-container\" hidden><div class=\"sk-item\"><div class=\"sk-estimator sk-toggleable\"><input class=\"sk-toggleable__control sk-hidden--visually\" id=\"sk-estimator-id-93\" type=\"checkbox\" checked><label for=\"sk-estimator-id-93\" class=\"sk-toggleable__label sk-toggleable__label-arrow\">KNeighborsClassifier</label><div class=\"sk-toggleable__content\"><pre>KNeighborsClassifier(n_neighbors=55)</pre></div></div></div></div></div>"
            ]
          },
          "metadata": {},
          "execution_count": 496
        }
      ]
    },
    {
      "cell_type": "code",
      "source": [
        "#Prediction\n",
        "\n",
        "y_pred_knn_train_sm=knn.predict(x_sm_train)\n",
        "y_pred_knn_test_sm=knn.predict(x_sm_test)"
      ],
      "metadata": {
        "id": "bK_3WMwaeV7t"
      },
      "execution_count": 497,
      "outputs": []
    },
    {
      "cell_type": "code",
      "source": [
        "#Displaying the result\n",
        "\n",
        "report(y_sm_train,y_pred_knn_train_sm)\n",
        "report(y_sm_test,y_pred_knn_test_sm)"
      ],
      "metadata": {
        "colab": {
          "base_uri": "https://localhost:8080/"
        },
        "id": "lIN2IOC8eX--",
        "outputId": "acbf9f40-1d88-4d94-9919-c98bb826fe91"
      },
      "execution_count": 498,
      "outputs": [
        {
          "output_type": "stream",
          "name": "stdout",
          "text": [
            "Accuracy Score :  0.8676582761250954\n",
            "Confusion Matrix :  [[1229   77]\n",
            " [ 270 1046]]\n",
            "Classification Report :                precision    recall  f1-score   support\n",
            "\n",
            "           0       0.82      0.94      0.88      1306\n",
            "           1       0.93      0.79      0.86      1316\n",
            "\n",
            "    accuracy                           0.87      2622\n",
            "   macro avg       0.88      0.87      0.87      2622\n",
            "weighted avg       0.88      0.87      0.87      2622\n",
            "\n",
            "Accuracy Score :  0.8734756097560976\n",
            "Confusion Matrix :  [[319  14]\n",
            " [ 69 254]]\n",
            "Classification Report :                precision    recall  f1-score   support\n",
            "\n",
            "           0       0.82      0.96      0.88       333\n",
            "           1       0.95      0.79      0.86       323\n",
            "\n",
            "    accuracy                           0.87       656\n",
            "   macro avg       0.88      0.87      0.87       656\n",
            "weighted avg       0.88      0.87      0.87       656\n",
            "\n"
          ]
        }
      ]
    },
    {
      "cell_type": "markdown",
      "source": [
        "RANDOM FOREST"
      ],
      "metadata": {
        "id": "FRPoZ1eTgqI3"
      }
    },
    {
      "cell_type": "code",
      "source": [
        "rfc.fit(x_sm_train,y_sm_train) #Training the model"
      ],
      "metadata": {
        "colab": {
          "base_uri": "https://localhost:8080/",
          "height": 74
        },
        "id": "t72_LYIBeaTq",
        "outputId": "bcd1c97e-c4da-4c06-a0ae-07e4ffe1edc9"
      },
      "execution_count": 499,
      "outputs": [
        {
          "output_type": "execute_result",
          "data": {
            "text/plain": [
              "RandomForestClassifier(n_estimators=265)"
            ],
            "text/html": [
              "<style>#sk-container-id-94 {color: black;background-color: white;}#sk-container-id-94 pre{padding: 0;}#sk-container-id-94 div.sk-toggleable {background-color: white;}#sk-container-id-94 label.sk-toggleable__label {cursor: pointer;display: block;width: 100%;margin-bottom: 0;padding: 0.3em;box-sizing: border-box;text-align: center;}#sk-container-id-94 label.sk-toggleable__label-arrow:before {content: \"▸\";float: left;margin-right: 0.25em;color: #696969;}#sk-container-id-94 label.sk-toggleable__label-arrow:hover:before {color: black;}#sk-container-id-94 div.sk-estimator:hover label.sk-toggleable__label-arrow:before {color: black;}#sk-container-id-94 div.sk-toggleable__content {max-height: 0;max-width: 0;overflow: hidden;text-align: left;background-color: #f0f8ff;}#sk-container-id-94 div.sk-toggleable__content pre {margin: 0.2em;color: black;border-radius: 0.25em;background-color: #f0f8ff;}#sk-container-id-94 input.sk-toggleable__control:checked~div.sk-toggleable__content {max-height: 200px;max-width: 100%;overflow: auto;}#sk-container-id-94 input.sk-toggleable__control:checked~label.sk-toggleable__label-arrow:before {content: \"▾\";}#sk-container-id-94 div.sk-estimator input.sk-toggleable__control:checked~label.sk-toggleable__label {background-color: #d4ebff;}#sk-container-id-94 div.sk-label input.sk-toggleable__control:checked~label.sk-toggleable__label {background-color: #d4ebff;}#sk-container-id-94 input.sk-hidden--visually {border: 0;clip: rect(1px 1px 1px 1px);clip: rect(1px, 1px, 1px, 1px);height: 1px;margin: -1px;overflow: hidden;padding: 0;position: absolute;width: 1px;}#sk-container-id-94 div.sk-estimator {font-family: monospace;background-color: #f0f8ff;border: 1px dotted black;border-radius: 0.25em;box-sizing: border-box;margin-bottom: 0.5em;}#sk-container-id-94 div.sk-estimator:hover {background-color: #d4ebff;}#sk-container-id-94 div.sk-parallel-item::after {content: \"\";width: 100%;border-bottom: 1px solid gray;flex-grow: 1;}#sk-container-id-94 div.sk-label:hover label.sk-toggleable__label {background-color: #d4ebff;}#sk-container-id-94 div.sk-serial::before {content: \"\";position: absolute;border-left: 1px solid gray;box-sizing: border-box;top: 0;bottom: 0;left: 50%;z-index: 0;}#sk-container-id-94 div.sk-serial {display: flex;flex-direction: column;align-items: center;background-color: white;padding-right: 0.2em;padding-left: 0.2em;position: relative;}#sk-container-id-94 div.sk-item {position: relative;z-index: 1;}#sk-container-id-94 div.sk-parallel {display: flex;align-items: stretch;justify-content: center;background-color: white;position: relative;}#sk-container-id-94 div.sk-item::before, #sk-container-id-94 div.sk-parallel-item::before {content: \"\";position: absolute;border-left: 1px solid gray;box-sizing: border-box;top: 0;bottom: 0;left: 50%;z-index: -1;}#sk-container-id-94 div.sk-parallel-item {display: flex;flex-direction: column;z-index: 1;position: relative;background-color: white;}#sk-container-id-94 div.sk-parallel-item:first-child::after {align-self: flex-end;width: 50%;}#sk-container-id-94 div.sk-parallel-item:last-child::after {align-self: flex-start;width: 50%;}#sk-container-id-94 div.sk-parallel-item:only-child::after {width: 0;}#sk-container-id-94 div.sk-dashed-wrapped {border: 1px dashed gray;margin: 0 0.4em 0.5em 0.4em;box-sizing: border-box;padding-bottom: 0.4em;background-color: white;}#sk-container-id-94 div.sk-label label {font-family: monospace;font-weight: bold;display: inline-block;line-height: 1.2em;}#sk-container-id-94 div.sk-label-container {text-align: center;}#sk-container-id-94 div.sk-container {/* jupyter's `normalize.less` sets `[hidden] { display: none; }` but bootstrap.min.css set `[hidden] { display: none !important; }` so we also need the `!important` here to be able to override the default hidden behavior on the sphinx rendered scikit-learn.org. See: https://github.com/scikit-learn/scikit-learn/issues/21755 */display: inline-block !important;position: relative;}#sk-container-id-94 div.sk-text-repr-fallback {display: none;}</style><div id=\"sk-container-id-94\" class=\"sk-top-container\"><div class=\"sk-text-repr-fallback\"><pre>RandomForestClassifier(n_estimators=265)</pre><b>In a Jupyter environment, please rerun this cell to show the HTML representation or trust the notebook. <br />On GitHub, the HTML representation is unable to render, please try loading this page with nbviewer.org.</b></div><div class=\"sk-container\" hidden><div class=\"sk-item\"><div class=\"sk-estimator sk-toggleable\"><input class=\"sk-toggleable__control sk-hidden--visually\" id=\"sk-estimator-id-94\" type=\"checkbox\" checked><label for=\"sk-estimator-id-94\" class=\"sk-toggleable__label sk-toggleable__label-arrow\">RandomForestClassifier</label><div class=\"sk-toggleable__content\"><pre>RandomForestClassifier(n_estimators=265)</pre></div></div></div></div></div>"
            ]
          },
          "metadata": {},
          "execution_count": 499
        }
      ]
    },
    {
      "cell_type": "code",
      "source": [
        "#Prediction\n",
        "\n",
        "y_pred_rfc_train_sm=rfc.predict(x_sm_train)\n",
        "y_pred_rfc_test_sm=rfc.predict(x_sm_test)"
      ],
      "metadata": {
        "id": "m81Dz7twek_D"
      },
      "execution_count": 500,
      "outputs": []
    },
    {
      "cell_type": "code",
      "source": [
        "#Displaying the result\n",
        "\n",
        "report(y_sm_train,y_pred_rfc_train_sm)\n",
        "report(y_sm_test,y_pred_rfc_test_sm)"
      ],
      "metadata": {
        "colab": {
          "base_uri": "https://localhost:8080/"
        },
        "id": "bRH9UBCnfPao",
        "outputId": "0b13238c-4eda-420b-8046-edfba0b34142"
      },
      "execution_count": 501,
      "outputs": [
        {
          "output_type": "stream",
          "name": "stdout",
          "text": [
            "Accuracy Score :  0.9221967963386728\n",
            "Confusion Matrix :  [[1274   32]\n",
            " [ 172 1144]]\n",
            "Classification Report :                precision    recall  f1-score   support\n",
            "\n",
            "           0       0.88      0.98      0.93      1306\n",
            "           1       0.97      0.87      0.92      1316\n",
            "\n",
            "    accuracy                           0.92      2622\n",
            "   macro avg       0.93      0.92      0.92      2622\n",
            "weighted avg       0.93      0.92      0.92      2622\n",
            "\n",
            "Accuracy Score :  0.9085365853658537\n",
            "Confusion Matrix :  [[322  11]\n",
            " [ 49 274]]\n",
            "Classification Report :                precision    recall  f1-score   support\n",
            "\n",
            "           0       0.87      0.97      0.91       333\n",
            "           1       0.96      0.85      0.90       323\n",
            "\n",
            "    accuracy                           0.91       656\n",
            "   macro avg       0.91      0.91      0.91       656\n",
            "weighted avg       0.91      0.91      0.91       656\n",
            "\n"
          ]
        }
      ]
    },
    {
      "cell_type": "markdown",
      "source": [
        "SVC"
      ],
      "metadata": {
        "id": "oeN6XpkJgz6P"
      }
    },
    {
      "cell_type": "code",
      "source": [
        "svc.fit(x_sm_train,y_sm_train) #Training the model"
      ],
      "metadata": {
        "colab": {
          "base_uri": "https://localhost:8080/",
          "height": 74
        },
        "id": "iGHxzreyfbFf",
        "outputId": "4a0e8e14-b6ba-4dd2-c5cd-d8d99cdf0573"
      },
      "execution_count": 502,
      "outputs": [
        {
          "output_type": "execute_result",
          "data": {
            "text/plain": [
              "SVC(C=100)"
            ],
            "text/html": [
              "<style>#sk-container-id-95 {color: black;background-color: white;}#sk-container-id-95 pre{padding: 0;}#sk-container-id-95 div.sk-toggleable {background-color: white;}#sk-container-id-95 label.sk-toggleable__label {cursor: pointer;display: block;width: 100%;margin-bottom: 0;padding: 0.3em;box-sizing: border-box;text-align: center;}#sk-container-id-95 label.sk-toggleable__label-arrow:before {content: \"▸\";float: left;margin-right: 0.25em;color: #696969;}#sk-container-id-95 label.sk-toggleable__label-arrow:hover:before {color: black;}#sk-container-id-95 div.sk-estimator:hover label.sk-toggleable__label-arrow:before {color: black;}#sk-container-id-95 div.sk-toggleable__content {max-height: 0;max-width: 0;overflow: hidden;text-align: left;background-color: #f0f8ff;}#sk-container-id-95 div.sk-toggleable__content pre {margin: 0.2em;color: black;border-radius: 0.25em;background-color: #f0f8ff;}#sk-container-id-95 input.sk-toggleable__control:checked~div.sk-toggleable__content {max-height: 200px;max-width: 100%;overflow: auto;}#sk-container-id-95 input.sk-toggleable__control:checked~label.sk-toggleable__label-arrow:before {content: \"▾\";}#sk-container-id-95 div.sk-estimator input.sk-toggleable__control:checked~label.sk-toggleable__label {background-color: #d4ebff;}#sk-container-id-95 div.sk-label input.sk-toggleable__control:checked~label.sk-toggleable__label {background-color: #d4ebff;}#sk-container-id-95 input.sk-hidden--visually {border: 0;clip: rect(1px 1px 1px 1px);clip: rect(1px, 1px, 1px, 1px);height: 1px;margin: -1px;overflow: hidden;padding: 0;position: absolute;width: 1px;}#sk-container-id-95 div.sk-estimator {font-family: monospace;background-color: #f0f8ff;border: 1px dotted black;border-radius: 0.25em;box-sizing: border-box;margin-bottom: 0.5em;}#sk-container-id-95 div.sk-estimator:hover {background-color: #d4ebff;}#sk-container-id-95 div.sk-parallel-item::after {content: \"\";width: 100%;border-bottom: 1px solid gray;flex-grow: 1;}#sk-container-id-95 div.sk-label:hover label.sk-toggleable__label {background-color: #d4ebff;}#sk-container-id-95 div.sk-serial::before {content: \"\";position: absolute;border-left: 1px solid gray;box-sizing: border-box;top: 0;bottom: 0;left: 50%;z-index: 0;}#sk-container-id-95 div.sk-serial {display: flex;flex-direction: column;align-items: center;background-color: white;padding-right: 0.2em;padding-left: 0.2em;position: relative;}#sk-container-id-95 div.sk-item {position: relative;z-index: 1;}#sk-container-id-95 div.sk-parallel {display: flex;align-items: stretch;justify-content: center;background-color: white;position: relative;}#sk-container-id-95 div.sk-item::before, #sk-container-id-95 div.sk-parallel-item::before {content: \"\";position: absolute;border-left: 1px solid gray;box-sizing: border-box;top: 0;bottom: 0;left: 50%;z-index: -1;}#sk-container-id-95 div.sk-parallel-item {display: flex;flex-direction: column;z-index: 1;position: relative;background-color: white;}#sk-container-id-95 div.sk-parallel-item:first-child::after {align-self: flex-end;width: 50%;}#sk-container-id-95 div.sk-parallel-item:last-child::after {align-self: flex-start;width: 50%;}#sk-container-id-95 div.sk-parallel-item:only-child::after {width: 0;}#sk-container-id-95 div.sk-dashed-wrapped {border: 1px dashed gray;margin: 0 0.4em 0.5em 0.4em;box-sizing: border-box;padding-bottom: 0.4em;background-color: white;}#sk-container-id-95 div.sk-label label {font-family: monospace;font-weight: bold;display: inline-block;line-height: 1.2em;}#sk-container-id-95 div.sk-label-container {text-align: center;}#sk-container-id-95 div.sk-container {/* jupyter's `normalize.less` sets `[hidden] { display: none; }` but bootstrap.min.css set `[hidden] { display: none !important; }` so we also need the `!important` here to be able to override the default hidden behavior on the sphinx rendered scikit-learn.org. See: https://github.com/scikit-learn/scikit-learn/issues/21755 */display: inline-block !important;position: relative;}#sk-container-id-95 div.sk-text-repr-fallback {display: none;}</style><div id=\"sk-container-id-95\" class=\"sk-top-container\"><div class=\"sk-text-repr-fallback\"><pre>SVC(C=100)</pre><b>In a Jupyter environment, please rerun this cell to show the HTML representation or trust the notebook. <br />On GitHub, the HTML representation is unable to render, please try loading this page with nbviewer.org.</b></div><div class=\"sk-container\" hidden><div class=\"sk-item\"><div class=\"sk-estimator sk-toggleable\"><input class=\"sk-toggleable__control sk-hidden--visually\" id=\"sk-estimator-id-95\" type=\"checkbox\" checked><label for=\"sk-estimator-id-95\" class=\"sk-toggleable__label sk-toggleable__label-arrow\">SVC</label><div class=\"sk-toggleable__content\"><pre>SVC(C=100)</pre></div></div></div></div></div>"
            ]
          },
          "metadata": {},
          "execution_count": 502
        }
      ]
    },
    {
      "cell_type": "code",
      "source": [
        "#Prediction\n",
        "\n",
        "y_pred_svc_train_sm=svc.predict(x_sm_train)\n",
        "y_pred_svc_test_sm=svc.predict(x_sm_test)"
      ],
      "metadata": {
        "id": "UeMukMZ-g4kq"
      },
      "execution_count": 503,
      "outputs": []
    },
    {
      "cell_type": "code",
      "source": [
        "#Displaying the result\n",
        "\n",
        "report(y_sm_train,y_pred_svc_train_sm)\n",
        "report(y_sm_test,y_pred_svc_test_sm)"
      ],
      "metadata": {
        "colab": {
          "base_uri": "https://localhost:8080/"
        },
        "id": "_ghXftvZnaC7",
        "outputId": "c88a6579-93dd-460a-d707-4efe33f349b3"
      },
      "execution_count": 504,
      "outputs": [
        {
          "output_type": "stream",
          "name": "stdout",
          "text": [
            "Accuracy Score :  0.8386727688787186\n",
            "Confusion Matrix :  [[1227   79]\n",
            " [ 344  972]]\n",
            "Classification Report :                precision    recall  f1-score   support\n",
            "\n",
            "           0       0.78      0.94      0.85      1306\n",
            "           1       0.92      0.74      0.82      1316\n",
            "\n",
            "    accuracy                           0.84      2622\n",
            "   macro avg       0.85      0.84      0.84      2622\n",
            "weighted avg       0.85      0.84      0.84      2622\n",
            "\n",
            "Accuracy Score :  0.8719512195121951\n",
            "Confusion Matrix :  [[321  12]\n",
            " [ 72 251]]\n",
            "Classification Report :                precision    recall  f1-score   support\n",
            "\n",
            "           0       0.82      0.96      0.88       333\n",
            "           1       0.95      0.78      0.86       323\n",
            "\n",
            "    accuracy                           0.87       656\n",
            "   macro avg       0.89      0.87      0.87       656\n",
            "weighted avg       0.88      0.87      0.87       656\n",
            "\n"
          ]
        }
      ]
    },
    {
      "cell_type": "markdown",
      "source": [
        "GAUSSIAN NAIEVE BAYES"
      ],
      "metadata": {
        "id": "EHsEOcJ6oaC5"
      }
    },
    {
      "cell_type": "code",
      "source": [
        "gnb.fit(x_sm_train,y_sm_train) #Training the model"
      ],
      "metadata": {
        "colab": {
          "base_uri": "https://localhost:8080/",
          "height": 74
        },
        "id": "6iETaLzHneb_",
        "outputId": "163e1437-13ef-4bd8-8df1-6ae5b9727dfb"
      },
      "execution_count": 505,
      "outputs": [
        {
          "output_type": "execute_result",
          "data": {
            "text/plain": [
              "GaussianNB()"
            ],
            "text/html": [
              "<style>#sk-container-id-96 {color: black;background-color: white;}#sk-container-id-96 pre{padding: 0;}#sk-container-id-96 div.sk-toggleable {background-color: white;}#sk-container-id-96 label.sk-toggleable__label {cursor: pointer;display: block;width: 100%;margin-bottom: 0;padding: 0.3em;box-sizing: border-box;text-align: center;}#sk-container-id-96 label.sk-toggleable__label-arrow:before {content: \"▸\";float: left;margin-right: 0.25em;color: #696969;}#sk-container-id-96 label.sk-toggleable__label-arrow:hover:before {color: black;}#sk-container-id-96 div.sk-estimator:hover label.sk-toggleable__label-arrow:before {color: black;}#sk-container-id-96 div.sk-toggleable__content {max-height: 0;max-width: 0;overflow: hidden;text-align: left;background-color: #f0f8ff;}#sk-container-id-96 div.sk-toggleable__content pre {margin: 0.2em;color: black;border-radius: 0.25em;background-color: #f0f8ff;}#sk-container-id-96 input.sk-toggleable__control:checked~div.sk-toggleable__content {max-height: 200px;max-width: 100%;overflow: auto;}#sk-container-id-96 input.sk-toggleable__control:checked~label.sk-toggleable__label-arrow:before {content: \"▾\";}#sk-container-id-96 div.sk-estimator input.sk-toggleable__control:checked~label.sk-toggleable__label {background-color: #d4ebff;}#sk-container-id-96 div.sk-label input.sk-toggleable__control:checked~label.sk-toggleable__label {background-color: #d4ebff;}#sk-container-id-96 input.sk-hidden--visually {border: 0;clip: rect(1px 1px 1px 1px);clip: rect(1px, 1px, 1px, 1px);height: 1px;margin: -1px;overflow: hidden;padding: 0;position: absolute;width: 1px;}#sk-container-id-96 div.sk-estimator {font-family: monospace;background-color: #f0f8ff;border: 1px dotted black;border-radius: 0.25em;box-sizing: border-box;margin-bottom: 0.5em;}#sk-container-id-96 div.sk-estimator:hover {background-color: #d4ebff;}#sk-container-id-96 div.sk-parallel-item::after {content: \"\";width: 100%;border-bottom: 1px solid gray;flex-grow: 1;}#sk-container-id-96 div.sk-label:hover label.sk-toggleable__label {background-color: #d4ebff;}#sk-container-id-96 div.sk-serial::before {content: \"\";position: absolute;border-left: 1px solid gray;box-sizing: border-box;top: 0;bottom: 0;left: 50%;z-index: 0;}#sk-container-id-96 div.sk-serial {display: flex;flex-direction: column;align-items: center;background-color: white;padding-right: 0.2em;padding-left: 0.2em;position: relative;}#sk-container-id-96 div.sk-item {position: relative;z-index: 1;}#sk-container-id-96 div.sk-parallel {display: flex;align-items: stretch;justify-content: center;background-color: white;position: relative;}#sk-container-id-96 div.sk-item::before, #sk-container-id-96 div.sk-parallel-item::before {content: \"\";position: absolute;border-left: 1px solid gray;box-sizing: border-box;top: 0;bottom: 0;left: 50%;z-index: -1;}#sk-container-id-96 div.sk-parallel-item {display: flex;flex-direction: column;z-index: 1;position: relative;background-color: white;}#sk-container-id-96 div.sk-parallel-item:first-child::after {align-self: flex-end;width: 50%;}#sk-container-id-96 div.sk-parallel-item:last-child::after {align-self: flex-start;width: 50%;}#sk-container-id-96 div.sk-parallel-item:only-child::after {width: 0;}#sk-container-id-96 div.sk-dashed-wrapped {border: 1px dashed gray;margin: 0 0.4em 0.5em 0.4em;box-sizing: border-box;padding-bottom: 0.4em;background-color: white;}#sk-container-id-96 div.sk-label label {font-family: monospace;font-weight: bold;display: inline-block;line-height: 1.2em;}#sk-container-id-96 div.sk-label-container {text-align: center;}#sk-container-id-96 div.sk-container {/* jupyter's `normalize.less` sets `[hidden] { display: none; }` but bootstrap.min.css set `[hidden] { display: none !important; }` so we also need the `!important` here to be able to override the default hidden behavior on the sphinx rendered scikit-learn.org. See: https://github.com/scikit-learn/scikit-learn/issues/21755 */display: inline-block !important;position: relative;}#sk-container-id-96 div.sk-text-repr-fallback {display: none;}</style><div id=\"sk-container-id-96\" class=\"sk-top-container\"><div class=\"sk-text-repr-fallback\"><pre>GaussianNB()</pre><b>In a Jupyter environment, please rerun this cell to show the HTML representation or trust the notebook. <br />On GitHub, the HTML representation is unable to render, please try loading this page with nbviewer.org.</b></div><div class=\"sk-container\" hidden><div class=\"sk-item\"><div class=\"sk-estimator sk-toggleable\"><input class=\"sk-toggleable__control sk-hidden--visually\" id=\"sk-estimator-id-96\" type=\"checkbox\" checked><label for=\"sk-estimator-id-96\" class=\"sk-toggleable__label sk-toggleable__label-arrow\">GaussianNB</label><div class=\"sk-toggleable__content\"><pre>GaussianNB()</pre></div></div></div></div></div>"
            ]
          },
          "metadata": {},
          "execution_count": 505
        }
      ]
    },
    {
      "cell_type": "code",
      "source": [
        "#Prediction\n",
        "\n",
        "y_pred_gnb_train_sm=gnb.predict(x_sm_train)\n",
        "y_pred_gnb_test_sm=gnb.predict(x_sm_test)"
      ],
      "metadata": {
        "id": "-KNNzy1Ioe6K"
      },
      "execution_count": 506,
      "outputs": []
    },
    {
      "cell_type": "code",
      "source": [
        "#Displaying the result\n",
        "\n",
        "report(y_sm_train,y_pred_gnb_train_sm)\n",
        "report(y_sm_test,y_pred_gnb_test_sm)"
      ],
      "metadata": {
        "colab": {
          "base_uri": "https://localhost:8080/"
        },
        "id": "LBqRPEyLooEK",
        "outputId": "1a9979d5-cb45-446a-90a6-fcd7793cf22e"
      },
      "execution_count": 507,
      "outputs": [
        {
          "output_type": "stream",
          "name": "stdout",
          "text": [
            "Accuracy Score :  0.8337147215865751\n",
            "Confusion Matrix :  [[1181  125]\n",
            " [ 311 1005]]\n",
            "Classification Report :                precision    recall  f1-score   support\n",
            "\n",
            "           0       0.79      0.90      0.84      1306\n",
            "           1       0.89      0.76      0.82      1316\n",
            "\n",
            "    accuracy                           0.83      2622\n",
            "   macro avg       0.84      0.83      0.83      2622\n",
            "weighted avg       0.84      0.83      0.83      2622\n",
            "\n",
            "Accuracy Score :  0.8628048780487805\n",
            "Confusion Matrix :  [[310  23]\n",
            " [ 67 256]]\n",
            "Classification Report :                precision    recall  f1-score   support\n",
            "\n",
            "           0       0.82      0.93      0.87       333\n",
            "           1       0.92      0.79      0.85       323\n",
            "\n",
            "    accuracy                           0.86       656\n",
            "   macro avg       0.87      0.86      0.86       656\n",
            "weighted avg       0.87      0.86      0.86       656\n",
            "\n"
          ]
        }
      ]
    },
    {
      "cell_type": "markdown",
      "source": [
        "XGBOOST"
      ],
      "metadata": {
        "id": "JBIe-y_PJdBm"
      }
    },
    {
      "cell_type": "code",
      "source": [
        "xgb_classifier.fit(x_sm_train,y_sm_train) #Training the model"
      ],
      "metadata": {
        "id": "JWdRZyEEotG9",
        "colab": {
          "base_uri": "https://localhost:8080/",
          "height": 248
        },
        "outputId": "11a2a6e6-eebe-4a13-8718-54a5cc083872"
      },
      "execution_count": 508,
      "outputs": [
        {
          "output_type": "execute_result",
          "data": {
            "text/plain": [
              "XGBClassifier(base_score=None, booster=None, callbacks=None,\n",
              "              colsample_bylevel=None, colsample_bynode=None,\n",
              "              colsample_bytree=None, early_stopping_rounds=None,\n",
              "              enable_categorical=False, eval_metric=None, feature_types=None,\n",
              "              gamma=None, gpu_id=None, grow_policy=None, importance_type=None,\n",
              "              interaction_constraints=None, learning_rate=None, max_bin=None,\n",
              "              max_cat_threshold=None, max_cat_to_onehot=None,\n",
              "              max_delta_step=None, max_depth=None, max_leaves=None,\n",
              "              min_child_weight=None, missing=nan, monotone_constraints=None,\n",
              "              n_estimators=100, n_jobs=None, num_parallel_tree=None,\n",
              "              predictor=None, random_state=None, ...)"
            ],
            "text/html": [
              "<style>#sk-container-id-97 {color: black;background-color: white;}#sk-container-id-97 pre{padding: 0;}#sk-container-id-97 div.sk-toggleable {background-color: white;}#sk-container-id-97 label.sk-toggleable__label {cursor: pointer;display: block;width: 100%;margin-bottom: 0;padding: 0.3em;box-sizing: border-box;text-align: center;}#sk-container-id-97 label.sk-toggleable__label-arrow:before {content: \"▸\";float: left;margin-right: 0.25em;color: #696969;}#sk-container-id-97 label.sk-toggleable__label-arrow:hover:before {color: black;}#sk-container-id-97 div.sk-estimator:hover label.sk-toggleable__label-arrow:before {color: black;}#sk-container-id-97 div.sk-toggleable__content {max-height: 0;max-width: 0;overflow: hidden;text-align: left;background-color: #f0f8ff;}#sk-container-id-97 div.sk-toggleable__content pre {margin: 0.2em;color: black;border-radius: 0.25em;background-color: #f0f8ff;}#sk-container-id-97 input.sk-toggleable__control:checked~div.sk-toggleable__content {max-height: 200px;max-width: 100%;overflow: auto;}#sk-container-id-97 input.sk-toggleable__control:checked~label.sk-toggleable__label-arrow:before {content: \"▾\";}#sk-container-id-97 div.sk-estimator input.sk-toggleable__control:checked~label.sk-toggleable__label {background-color: #d4ebff;}#sk-container-id-97 div.sk-label input.sk-toggleable__control:checked~label.sk-toggleable__label {background-color: #d4ebff;}#sk-container-id-97 input.sk-hidden--visually {border: 0;clip: rect(1px 1px 1px 1px);clip: rect(1px, 1px, 1px, 1px);height: 1px;margin: -1px;overflow: hidden;padding: 0;position: absolute;width: 1px;}#sk-container-id-97 div.sk-estimator {font-family: monospace;background-color: #f0f8ff;border: 1px dotted black;border-radius: 0.25em;box-sizing: border-box;margin-bottom: 0.5em;}#sk-container-id-97 div.sk-estimator:hover {background-color: #d4ebff;}#sk-container-id-97 div.sk-parallel-item::after {content: \"\";width: 100%;border-bottom: 1px solid gray;flex-grow: 1;}#sk-container-id-97 div.sk-label:hover label.sk-toggleable__label {background-color: #d4ebff;}#sk-container-id-97 div.sk-serial::before {content: \"\";position: absolute;border-left: 1px solid gray;box-sizing: border-box;top: 0;bottom: 0;left: 50%;z-index: 0;}#sk-container-id-97 div.sk-serial {display: flex;flex-direction: column;align-items: center;background-color: white;padding-right: 0.2em;padding-left: 0.2em;position: relative;}#sk-container-id-97 div.sk-item {position: relative;z-index: 1;}#sk-container-id-97 div.sk-parallel {display: flex;align-items: stretch;justify-content: center;background-color: white;position: relative;}#sk-container-id-97 div.sk-item::before, #sk-container-id-97 div.sk-parallel-item::before {content: \"\";position: absolute;border-left: 1px solid gray;box-sizing: border-box;top: 0;bottom: 0;left: 50%;z-index: -1;}#sk-container-id-97 div.sk-parallel-item {display: flex;flex-direction: column;z-index: 1;position: relative;background-color: white;}#sk-container-id-97 div.sk-parallel-item:first-child::after {align-self: flex-end;width: 50%;}#sk-container-id-97 div.sk-parallel-item:last-child::after {align-self: flex-start;width: 50%;}#sk-container-id-97 div.sk-parallel-item:only-child::after {width: 0;}#sk-container-id-97 div.sk-dashed-wrapped {border: 1px dashed gray;margin: 0 0.4em 0.5em 0.4em;box-sizing: border-box;padding-bottom: 0.4em;background-color: white;}#sk-container-id-97 div.sk-label label {font-family: monospace;font-weight: bold;display: inline-block;line-height: 1.2em;}#sk-container-id-97 div.sk-label-container {text-align: center;}#sk-container-id-97 div.sk-container {/* jupyter's `normalize.less` sets `[hidden] { display: none; }` but bootstrap.min.css set `[hidden] { display: none !important; }` so we also need the `!important` here to be able to override the default hidden behavior on the sphinx rendered scikit-learn.org. See: https://github.com/scikit-learn/scikit-learn/issues/21755 */display: inline-block !important;position: relative;}#sk-container-id-97 div.sk-text-repr-fallback {display: none;}</style><div id=\"sk-container-id-97\" class=\"sk-top-container\"><div class=\"sk-text-repr-fallback\"><pre>XGBClassifier(base_score=None, booster=None, callbacks=None,\n",
              "              colsample_bylevel=None, colsample_bynode=None,\n",
              "              colsample_bytree=None, early_stopping_rounds=None,\n",
              "              enable_categorical=False, eval_metric=None, feature_types=None,\n",
              "              gamma=None, gpu_id=None, grow_policy=None, importance_type=None,\n",
              "              interaction_constraints=None, learning_rate=None, max_bin=None,\n",
              "              max_cat_threshold=None, max_cat_to_onehot=None,\n",
              "              max_delta_step=None, max_depth=None, max_leaves=None,\n",
              "              min_child_weight=None, missing=nan, monotone_constraints=None,\n",
              "              n_estimators=100, n_jobs=None, num_parallel_tree=None,\n",
              "              predictor=None, random_state=None, ...)</pre><b>In a Jupyter environment, please rerun this cell to show the HTML representation or trust the notebook. <br />On GitHub, the HTML representation is unable to render, please try loading this page with nbviewer.org.</b></div><div class=\"sk-container\" hidden><div class=\"sk-item\"><div class=\"sk-estimator sk-toggleable\"><input class=\"sk-toggleable__control sk-hidden--visually\" id=\"sk-estimator-id-97\" type=\"checkbox\" checked><label for=\"sk-estimator-id-97\" class=\"sk-toggleable__label sk-toggleable__label-arrow\">XGBClassifier</label><div class=\"sk-toggleable__content\"><pre>XGBClassifier(base_score=None, booster=None, callbacks=None,\n",
              "              colsample_bylevel=None, colsample_bynode=None,\n",
              "              colsample_bytree=None, early_stopping_rounds=None,\n",
              "              enable_categorical=False, eval_metric=None, feature_types=None,\n",
              "              gamma=None, gpu_id=None, grow_policy=None, importance_type=None,\n",
              "              interaction_constraints=None, learning_rate=None, max_bin=None,\n",
              "              max_cat_threshold=None, max_cat_to_onehot=None,\n",
              "              max_delta_step=None, max_depth=None, max_leaves=None,\n",
              "              min_child_weight=None, missing=nan, monotone_constraints=None,\n",
              "              n_estimators=100, n_jobs=None, num_parallel_tree=None,\n",
              "              predictor=None, random_state=None, ...)</pre></div></div></div></div></div>"
            ]
          },
          "metadata": {},
          "execution_count": 508
        }
      ]
    },
    {
      "cell_type": "code",
      "source": [
        "#Prediction\n",
        "\n",
        "y_pred_xgb_train_sm=xgb_classifier.predict(x_sm_train)\n",
        "y_pred_xgb_test_sm=xgb_classifier.predict(x_sm_test)"
      ],
      "metadata": {
        "id": "Y2LRqOnPJsCG"
      },
      "execution_count": 509,
      "outputs": []
    },
    {
      "cell_type": "code",
      "source": [
        "#Displaying the result\n",
        "\n",
        "report(y_sm_train,y_pred_xgb_train_sm)\n",
        "report(y_sm_test,y_pred_xgb_test_sm)"
      ],
      "metadata": {
        "colab": {
          "base_uri": "https://localhost:8080/"
        },
        "id": "aW_tfQmFJ1z1",
        "outputId": "d8738cf2-f937-4ef5-8b0e-7ea85a17c664"
      },
      "execution_count": 510,
      "outputs": [
        {
          "output_type": "stream",
          "name": "stdout",
          "text": [
            "Accuracy Score :  0.918001525553013\n",
            "Confusion Matrix :  [[1281   25]\n",
            " [ 190 1126]]\n",
            "Classification Report :                precision    recall  f1-score   support\n",
            "\n",
            "           0       0.87      0.98      0.92      1306\n",
            "           1       0.98      0.86      0.91      1316\n",
            "\n",
            "    accuracy                           0.92      2622\n",
            "   macro avg       0.92      0.92      0.92      2622\n",
            "weighted avg       0.92      0.92      0.92      2622\n",
            "\n",
            "Accuracy Score :  0.9085365853658537\n",
            "Confusion Matrix :  [[323  10]\n",
            " [ 50 273]]\n",
            "Classification Report :                precision    recall  f1-score   support\n",
            "\n",
            "           0       0.87      0.97      0.92       333\n",
            "           1       0.96      0.85      0.90       323\n",
            "\n",
            "    accuracy                           0.91       656\n",
            "   macro avg       0.92      0.91      0.91       656\n",
            "weighted avg       0.91      0.91      0.91       656\n",
            "\n"
          ]
        }
      ]
    },
    {
      "cell_type": "markdown",
      "source": [
        "ADABOOST"
      ],
      "metadata": {
        "id": "WQAp6ek8v9DX"
      }
    },
    {
      "cell_type": "code",
      "source": [
        "ada.fit(x_sm_train,y_sm_train) #Training the model"
      ],
      "metadata": {
        "colab": {
          "base_uri": "https://localhost:8080/",
          "height": 74
        },
        "id": "55a5kLlYv-xF",
        "outputId": "95ebdda9-23ad-4200-dc45-8da279920d15"
      },
      "execution_count": 511,
      "outputs": [
        {
          "output_type": "execute_result",
          "data": {
            "text/plain": [
              "AdaBoostClassifier(learning_rate=1, n_estimators=100)"
            ],
            "text/html": [
              "<style>#sk-container-id-98 {color: black;background-color: white;}#sk-container-id-98 pre{padding: 0;}#sk-container-id-98 div.sk-toggleable {background-color: white;}#sk-container-id-98 label.sk-toggleable__label {cursor: pointer;display: block;width: 100%;margin-bottom: 0;padding: 0.3em;box-sizing: border-box;text-align: center;}#sk-container-id-98 label.sk-toggleable__label-arrow:before {content: \"▸\";float: left;margin-right: 0.25em;color: #696969;}#sk-container-id-98 label.sk-toggleable__label-arrow:hover:before {color: black;}#sk-container-id-98 div.sk-estimator:hover label.sk-toggleable__label-arrow:before {color: black;}#sk-container-id-98 div.sk-toggleable__content {max-height: 0;max-width: 0;overflow: hidden;text-align: left;background-color: #f0f8ff;}#sk-container-id-98 div.sk-toggleable__content pre {margin: 0.2em;color: black;border-radius: 0.25em;background-color: #f0f8ff;}#sk-container-id-98 input.sk-toggleable__control:checked~div.sk-toggleable__content {max-height: 200px;max-width: 100%;overflow: auto;}#sk-container-id-98 input.sk-toggleable__control:checked~label.sk-toggleable__label-arrow:before {content: \"▾\";}#sk-container-id-98 div.sk-estimator input.sk-toggleable__control:checked~label.sk-toggleable__label {background-color: #d4ebff;}#sk-container-id-98 div.sk-label input.sk-toggleable__control:checked~label.sk-toggleable__label {background-color: #d4ebff;}#sk-container-id-98 input.sk-hidden--visually {border: 0;clip: rect(1px 1px 1px 1px);clip: rect(1px, 1px, 1px, 1px);height: 1px;margin: -1px;overflow: hidden;padding: 0;position: absolute;width: 1px;}#sk-container-id-98 div.sk-estimator {font-family: monospace;background-color: #f0f8ff;border: 1px dotted black;border-radius: 0.25em;box-sizing: border-box;margin-bottom: 0.5em;}#sk-container-id-98 div.sk-estimator:hover {background-color: #d4ebff;}#sk-container-id-98 div.sk-parallel-item::after {content: \"\";width: 100%;border-bottom: 1px solid gray;flex-grow: 1;}#sk-container-id-98 div.sk-label:hover label.sk-toggleable__label {background-color: #d4ebff;}#sk-container-id-98 div.sk-serial::before {content: \"\";position: absolute;border-left: 1px solid gray;box-sizing: border-box;top: 0;bottom: 0;left: 50%;z-index: 0;}#sk-container-id-98 div.sk-serial {display: flex;flex-direction: column;align-items: center;background-color: white;padding-right: 0.2em;padding-left: 0.2em;position: relative;}#sk-container-id-98 div.sk-item {position: relative;z-index: 1;}#sk-container-id-98 div.sk-parallel {display: flex;align-items: stretch;justify-content: center;background-color: white;position: relative;}#sk-container-id-98 div.sk-item::before, #sk-container-id-98 div.sk-parallel-item::before {content: \"\";position: absolute;border-left: 1px solid gray;box-sizing: border-box;top: 0;bottom: 0;left: 50%;z-index: -1;}#sk-container-id-98 div.sk-parallel-item {display: flex;flex-direction: column;z-index: 1;position: relative;background-color: white;}#sk-container-id-98 div.sk-parallel-item:first-child::after {align-self: flex-end;width: 50%;}#sk-container-id-98 div.sk-parallel-item:last-child::after {align-self: flex-start;width: 50%;}#sk-container-id-98 div.sk-parallel-item:only-child::after {width: 0;}#sk-container-id-98 div.sk-dashed-wrapped {border: 1px dashed gray;margin: 0 0.4em 0.5em 0.4em;box-sizing: border-box;padding-bottom: 0.4em;background-color: white;}#sk-container-id-98 div.sk-label label {font-family: monospace;font-weight: bold;display: inline-block;line-height: 1.2em;}#sk-container-id-98 div.sk-label-container {text-align: center;}#sk-container-id-98 div.sk-container {/* jupyter's `normalize.less` sets `[hidden] { display: none; }` but bootstrap.min.css set `[hidden] { display: none !important; }` so we also need the `!important` here to be able to override the default hidden behavior on the sphinx rendered scikit-learn.org. See: https://github.com/scikit-learn/scikit-learn/issues/21755 */display: inline-block !important;position: relative;}#sk-container-id-98 div.sk-text-repr-fallback {display: none;}</style><div id=\"sk-container-id-98\" class=\"sk-top-container\"><div class=\"sk-text-repr-fallback\"><pre>AdaBoostClassifier(learning_rate=1, n_estimators=100)</pre><b>In a Jupyter environment, please rerun this cell to show the HTML representation or trust the notebook. <br />On GitHub, the HTML representation is unable to render, please try loading this page with nbviewer.org.</b></div><div class=\"sk-container\" hidden><div class=\"sk-item\"><div class=\"sk-estimator sk-toggleable\"><input class=\"sk-toggleable__control sk-hidden--visually\" id=\"sk-estimator-id-98\" type=\"checkbox\" checked><label for=\"sk-estimator-id-98\" class=\"sk-toggleable__label sk-toggleable__label-arrow\">AdaBoostClassifier</label><div class=\"sk-toggleable__content\"><pre>AdaBoostClassifier(learning_rate=1, n_estimators=100)</pre></div></div></div></div></div>"
            ]
          },
          "metadata": {},
          "execution_count": 511
        }
      ]
    },
    {
      "cell_type": "code",
      "source": [
        "#Prediction\n",
        "\n",
        "y_pred_ada_train_sm=ada.predict(x_sm_train)\n",
        "y_pred_ada_test_sm=ada.predict(x_sm_test)"
      ],
      "metadata": {
        "id": "QrSUma1YwK1U"
      },
      "execution_count": 512,
      "outputs": []
    },
    {
      "cell_type": "code",
      "source": [
        "#Displaying the result\n",
        "\n",
        "report(y_sm_train,y_pred_ada_train_sm)\n",
        "report(y_sm_test,y_pred_ada_test_sm)"
      ],
      "metadata": {
        "colab": {
          "base_uri": "https://localhost:8080/"
        },
        "id": "aPg5zcVbwDtF",
        "outputId": "32ce0c7b-cb71-4348-9a24-80a91f172fa4"
      },
      "execution_count": 513,
      "outputs": [
        {
          "output_type": "stream",
          "name": "stdout",
          "text": [
            "Accuracy Score :  0.876048817696415\n",
            "Confusion Matrix :  [[1223   83]\n",
            " [ 242 1074]]\n",
            "Classification Report :                precision    recall  f1-score   support\n",
            "\n",
            "           0       0.83      0.94      0.88      1306\n",
            "           1       0.93      0.82      0.87      1316\n",
            "\n",
            "    accuracy                           0.88      2622\n",
            "   macro avg       0.88      0.88      0.88      2622\n",
            "weighted avg       0.88      0.88      0.88      2622\n",
            "\n",
            "Accuracy Score :  0.8902439024390244\n",
            "Confusion Matrix :  [[318  15]\n",
            " [ 57 266]]\n",
            "Classification Report :                precision    recall  f1-score   support\n",
            "\n",
            "           0       0.85      0.95      0.90       333\n",
            "           1       0.95      0.82      0.88       323\n",
            "\n",
            "    accuracy                           0.89       656\n",
            "   macro avg       0.90      0.89      0.89       656\n",
            "weighted avg       0.90      0.89      0.89       656\n",
            "\n"
          ]
        }
      ]
    },
    {
      "cell_type": "markdown",
      "source": [
        "# VERDICT"
      ],
      "metadata": {
        "id": "C_19h1AQsT4j"
      }
    },
    {
      "cell_type": "markdown",
      "source": [
        "*   XGBOOST,ADABOOST,DECISION TREE CLASSIFIER,RANDOM FOREST CLASSIFIER,KNN,SVC,NAIVE BAYES shows low bias and low variance both before and after using SMOTE.\n",
        "\n",
        "*   LOGISTIC REGRESSION is the least performing model.\n",
        "\n",
        "*   Using XGBOOST,ADABOOST,DECISION TREE CLASSIFIER,RANDOM FOREST CLASSIFIER, we can achieve greater accuracy.\n",
        "\n",
        "\n",
        "\n",
        "\n",
        "\n",
        "\n",
        "\n",
        "\n"
      ],
      "metadata": {
        "id": "ATMXUbVnsHwB"
      }
    }
  ]
}